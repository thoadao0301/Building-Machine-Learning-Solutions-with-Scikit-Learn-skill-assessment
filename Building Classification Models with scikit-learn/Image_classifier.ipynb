{
 "metadata": {
  "language_info": {
   "codemirror_mode": {
    "name": "ipython",
    "version": 3
   },
   "file_extension": ".py",
   "mimetype": "text/x-python",
   "name": "python",
   "nbconvert_exporter": "python",
   "pygments_lexer": "ipython3",
   "version": "3.8.7"
  },
  "orig_nbformat": 2,
  "kernelspec": {
   "name": "python387jvsc74a57bd0f4fde45515710cbe4f4cf44a8ddef1b298277709bd6c5462499553af68a98f2e",
   "display_name": "Python 3.8.7 64-bit"
  },
  "metadata": {
   "interpreter": {
    "hash": "f4fde45515710cbe4f4cf44a8ddef1b298277709bd6c5462499553af68a98f2e"
   }
  }
 },
 "nbformat": 4,
 "nbformat_minor": 2,
 "cells": [
  {
   "cell_type": "code",
   "execution_count": 27,
   "metadata": {},
   "outputs": [],
   "source": [
    "import pandas as pd\n",
    "import numpy as np\n",
    "import matplotlib.pyplot as plt\n",
    "\n",
    "from sklearn.model_selection import train_test_split\n",
    "from sklearn.metrics import accuracy_score,precision_score,recall_score\n",
    "\n",
    "from sklearn.linear_model import LogisticRegression,SGDClassifier"
   ]
  },
  {
   "cell_type": "code",
   "execution_count": 2,
   "metadata": {},
   "outputs": [],
   "source": [
    "url = 'https://raw.githubusercontent.com/umbertogriffo/Fashion-mnist-cnn-keras/master/Dataset/fashion-mnist_test.csv'"
   ]
  },
  {
   "cell_type": "code",
   "execution_count": 4,
   "metadata": {},
   "outputs": [],
   "source": [
    "df = pd.read_csv(url)"
   ]
  },
  {
   "cell_type": "code",
   "execution_count": 5,
   "metadata": {},
   "outputs": [],
   "source": [
    "df.to_csv('fashion_mnist.csv')"
   ]
  },
  {
   "cell_type": "code",
   "execution_count": 7,
   "metadata": {},
   "outputs": [
    {
     "output_type": "execute_result",
     "data": {
      "text/plain": [
       "   label  pixel1  pixel2  pixel3  pixel4  pixel5  pixel6  pixel7  pixel8  \\\n",
       "0      0       0       0       0       0       0       0       0       9   \n",
       "1      1       0       0       0       0       0       0       0       0   \n",
       "2      2       0       0       0       0       0       0      14      53   \n",
       "3      2       0       0       0       0       0       0       0       0   \n",
       "4      3       0       0       0       0       0       0       0       0   \n",
       "\n",
       "   pixel9  ...  pixel775  pixel776  pixel777  pixel778  pixel779  pixel780  \\\n",
       "0       8  ...       103        87        56         0         0         0   \n",
       "1       0  ...        34         0         0         0         0         0   \n",
       "2      99  ...         0         0         0         0        63        53   \n",
       "3       0  ...       137       126       140         0       133       224   \n",
       "4       0  ...         0         0         0         0         0         0   \n",
       "\n",
       "   pixel781  pixel782  pixel783  pixel784  \n",
       "0         0         0         0         0  \n",
       "1         0         0         0         0  \n",
       "2        31         0         0         0  \n",
       "3       222        56         0         0  \n",
       "4         0         0         0         0  \n",
       "\n",
       "[5 rows x 785 columns]"
      ],
      "text/html": "<div>\n<style scoped>\n    .dataframe tbody tr th:only-of-type {\n        vertical-align: middle;\n    }\n\n    .dataframe tbody tr th {\n        vertical-align: top;\n    }\n\n    .dataframe thead th {\n        text-align: right;\n    }\n</style>\n<table border=\"1\" class=\"dataframe\">\n  <thead>\n    <tr style=\"text-align: right;\">\n      <th></th>\n      <th>label</th>\n      <th>pixel1</th>\n      <th>pixel2</th>\n      <th>pixel3</th>\n      <th>pixel4</th>\n      <th>pixel5</th>\n      <th>pixel6</th>\n      <th>pixel7</th>\n      <th>pixel8</th>\n      <th>pixel9</th>\n      <th>...</th>\n      <th>pixel775</th>\n      <th>pixel776</th>\n      <th>pixel777</th>\n      <th>pixel778</th>\n      <th>pixel779</th>\n      <th>pixel780</th>\n      <th>pixel781</th>\n      <th>pixel782</th>\n      <th>pixel783</th>\n      <th>pixel784</th>\n    </tr>\n  </thead>\n  <tbody>\n    <tr>\n      <th>0</th>\n      <td>0</td>\n      <td>0</td>\n      <td>0</td>\n      <td>0</td>\n      <td>0</td>\n      <td>0</td>\n      <td>0</td>\n      <td>0</td>\n      <td>9</td>\n      <td>8</td>\n      <td>...</td>\n      <td>103</td>\n      <td>87</td>\n      <td>56</td>\n      <td>0</td>\n      <td>0</td>\n      <td>0</td>\n      <td>0</td>\n      <td>0</td>\n      <td>0</td>\n      <td>0</td>\n    </tr>\n    <tr>\n      <th>1</th>\n      <td>1</td>\n      <td>0</td>\n      <td>0</td>\n      <td>0</td>\n      <td>0</td>\n      <td>0</td>\n      <td>0</td>\n      <td>0</td>\n      <td>0</td>\n      <td>0</td>\n      <td>...</td>\n      <td>34</td>\n      <td>0</td>\n      <td>0</td>\n      <td>0</td>\n      <td>0</td>\n      <td>0</td>\n      <td>0</td>\n      <td>0</td>\n      <td>0</td>\n      <td>0</td>\n    </tr>\n    <tr>\n      <th>2</th>\n      <td>2</td>\n      <td>0</td>\n      <td>0</td>\n      <td>0</td>\n      <td>0</td>\n      <td>0</td>\n      <td>0</td>\n      <td>14</td>\n      <td>53</td>\n      <td>99</td>\n      <td>...</td>\n      <td>0</td>\n      <td>0</td>\n      <td>0</td>\n      <td>0</td>\n      <td>63</td>\n      <td>53</td>\n      <td>31</td>\n      <td>0</td>\n      <td>0</td>\n      <td>0</td>\n    </tr>\n    <tr>\n      <th>3</th>\n      <td>2</td>\n      <td>0</td>\n      <td>0</td>\n      <td>0</td>\n      <td>0</td>\n      <td>0</td>\n      <td>0</td>\n      <td>0</td>\n      <td>0</td>\n      <td>0</td>\n      <td>...</td>\n      <td>137</td>\n      <td>126</td>\n      <td>140</td>\n      <td>0</td>\n      <td>133</td>\n      <td>224</td>\n      <td>222</td>\n      <td>56</td>\n      <td>0</td>\n      <td>0</td>\n    </tr>\n    <tr>\n      <th>4</th>\n      <td>3</td>\n      <td>0</td>\n      <td>0</td>\n      <td>0</td>\n      <td>0</td>\n      <td>0</td>\n      <td>0</td>\n      <td>0</td>\n      <td>0</td>\n      <td>0</td>\n      <td>...</td>\n      <td>0</td>\n      <td>0</td>\n      <td>0</td>\n      <td>0</td>\n      <td>0</td>\n      <td>0</td>\n      <td>0</td>\n      <td>0</td>\n      <td>0</td>\n      <td>0</td>\n    </tr>\n  </tbody>\n</table>\n<p>5 rows × 785 columns</p>\n</div>"
     },
     "metadata": {},
     "execution_count": 7
    }
   ],
   "source": [
    "df.head()"
   ]
  },
  {
   "cell_type": "code",
   "execution_count": 9,
   "metadata": {},
   "outputs": [
    {
     "output_type": "execute_result",
     "data": {
      "text/plain": [
       "(10000, 785)"
      ]
     },
     "metadata": {},
     "execution_count": 9
    }
   ],
   "source": [
    "df.shape"
   ]
  },
  {
   "cell_type": "code",
   "execution_count": 10,
   "metadata": {},
   "outputs": [],
   "source": [
    "df = df.sample(frac=0.3).reset_index(drop=True)"
   ]
  },
  {
   "cell_type": "code",
   "execution_count": 11,
   "metadata": {},
   "outputs": [
    {
     "output_type": "execute_result",
     "data": {
      "text/plain": [
       "(3000, 785)"
      ]
     },
     "metadata": {},
     "execution_count": 11
    }
   ],
   "source": [
    "df.shape"
   ]
  },
  {
   "cell_type": "code",
   "execution_count": 12,
   "metadata": {},
   "outputs": [],
   "source": [
    "LOOKUP = {\n",
    "0:'T-shirt/top',\n",
    "1:\t'Trouser',\n",
    "2:\t'Pullover',\n",
    "3:\t'Dress',\n",
    "4:\t'Coat',\n",
    "5:\t'Sandal',\n",
    "6:\t'Shirt',\n",
    "7:\t'Sneaker',\n",
    "8:\t'Bag',\n",
    "9:\t'Ankle boot',\n",
    "}"
   ]
  },
  {
   "cell_type": "code",
   "execution_count": 13,
   "metadata": {},
   "outputs": [],
   "source": [
    "def  display_image(features,actual_label):\n",
    "    print('Actual label',LOOKUP[actual_label])\n",
    "    plt.imshow(features.reshape(28,28))"
   ]
  },
  {
   "cell_type": "code",
   "execution_count": 22,
   "metadata": {},
   "outputs": [],
   "source": [
    "X = df[df.columns[1:]]\n",
    "y = df['label']"
   ]
  },
  {
   "cell_type": "code",
   "execution_count": 15,
   "metadata": {},
   "outputs": [
    {
     "output_type": "execute_result",
     "data": {
      "text/plain": [
       "array([0, 0, 0, 0, 0, 0, 0, 0, 0, 0, 0, 0, 0, 0, 0, 0, 0, 0, 0, 0, 0, 0,\n",
       "       0, 0, 0, 0, 0, 0, 0, 0, 0, 0, 0, 0, 0, 0, 0, 0, 0, 0, 0, 0, 0, 0,\n",
       "       0, 0, 0, 0, 0, 0, 0, 0, 0, 0, 0, 0, 0, 0, 0, 0, 0, 0, 0, 0, 0, 0,\n",
       "       0, 0, 0, 0, 0, 0, 0, 0, 0, 0, 0, 0, 0, 0, 0, 0, 0, 0, 0, 0, 0, 0,\n",
       "       0, 0, 0, 0, 0, 0, 0, 0, 0, 0, 0, 0], dtype=int64)"
      ]
     },
     "metadata": {},
     "execution_count": 15
    }
   ],
   "source": [
    "X.loc[5].values[:100]"
   ]
  },
  {
   "cell_type": "code",
   "execution_count": 16,
   "metadata": {},
   "outputs": [
    {
     "output_type": "execute_result",
     "data": {
      "text/plain": [
       "7"
      ]
     },
     "metadata": {},
     "execution_count": 16
    }
   ],
   "source": [
    "y.loc[5]"
   ]
  },
  {
   "cell_type": "code",
   "execution_count": 17,
   "metadata": {},
   "outputs": [
    {
     "output_type": "stream",
     "name": "stdout",
     "text": [
      "Actual label Sneaker\n"
     ]
    },
    {
     "output_type": "display_data",
     "data": {
      "text/plain": "<Figure size 432x288 with 1 Axes>",
      "image/svg+xml": "<?xml version=\"1.0\" encoding=\"utf-8\" standalone=\"no\"?>\r\n<!DOCTYPE svg PUBLIC \"-//W3C//DTD SVG 1.1//EN\"\r\n  \"http://www.w3.org/Graphics/SVG/1.1/DTD/svg11.dtd\">\r\n<!-- Created with matplotlib (https://matplotlib.org/) -->\r\n<svg height=\"248.518125pt\" version=\"1.1\" viewBox=\"0 0 251.565 248.518125\" width=\"251.565pt\" xmlns=\"http://www.w3.org/2000/svg\" xmlns:xlink=\"http://www.w3.org/1999/xlink\">\r\n <metadata>\r\n  <rdf:RDF xmlns:cc=\"http://creativecommons.org/ns#\" xmlns:dc=\"http://purl.org/dc/elements/1.1/\" xmlns:rdf=\"http://www.w3.org/1999/02/22-rdf-syntax-ns#\">\r\n   <cc:Work>\r\n    <dc:type rdf:resource=\"http://purl.org/dc/dcmitype/StillImage\"/>\r\n    <dc:date>2021-05-22T21:16:05.201993</dc:date>\r\n    <dc:format>image/svg+xml</dc:format>\r\n    <dc:creator>\r\n     <cc:Agent>\r\n      <dc:title>Matplotlib v3.3.4, https://matplotlib.org/</dc:title>\r\n     </cc:Agent>\r\n    </dc:creator>\r\n   </cc:Work>\r\n  </rdf:RDF>\r\n </metadata>\r\n <defs>\r\n  <style type=\"text/css\">*{stroke-linecap:butt;stroke-linejoin:round;}</style>\r\n </defs>\r\n <g id=\"figure_1\">\r\n  <g id=\"patch_1\">\r\n   <path d=\"M 0 248.518125 \r\nL 251.565 248.518125 \r\nL 251.565 0 \r\nL 0 0 \r\nz\r\n\" style=\"fill:none;\"/>\r\n  </g>\r\n  <g id=\"axes_1\">\r\n   <g id=\"patch_2\">\r\n    <path d=\"M 26.925 224.64 \r\nL 244.365 224.64 \r\nL 244.365 7.2 \r\nL 26.925 7.2 \r\nz\r\n\" style=\"fill:#ffffff;\"/>\r\n   </g>\r\n   <g clip-path=\"url(#pfd3c864220)\">\r\n    <image height=\"218\" id=\"imagecdff61762a\" transform=\"scale(1 -1)translate(0 -218)\" width=\"218\" x=\"26.925\" xlink:href=\"data:image/png;base64,\r\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\" y=\"-6.64\"/>\r\n   </g>\r\n   <g id=\"matplotlib.axis_1\">\r\n    <g id=\"xtick_1\">\r\n     <g id=\"line2d_1\">\r\n      <defs>\r\n       <path d=\"M 0 0 \r\nL 0 3.5 \r\n\" id=\"madfb344398\" style=\"stroke:#000000;stroke-width:0.8;\"/>\r\n      </defs>\r\n      <g>\r\n       <use style=\"stroke:#000000;stroke-width:0.8;\" x=\"30.807857\" xlink:href=\"#madfb344398\" y=\"224.64\"/>\r\n      </g>\r\n     </g>\r\n     <g id=\"text_1\">\r\n      <!-- 0 -->\r\n      <g transform=\"translate(27.626607 239.238437)scale(0.1 -0.1)\">\r\n       <defs>\r\n        <path d=\"M 31.78125 66.40625 \r\nQ 24.171875 66.40625 20.328125 58.90625 \r\nQ 16.5 51.421875 16.5 36.375 \r\nQ 16.5 21.390625 20.328125 13.890625 \r\nQ 24.171875 6.390625 31.78125 6.390625 \r\nQ 39.453125 6.390625 43.28125 13.890625 \r\nQ 47.125 21.390625 47.125 36.375 \r\nQ 47.125 51.421875 43.28125 58.90625 \r\nQ 39.453125 66.40625 31.78125 66.40625 \r\nz\r\nM 31.78125 74.21875 \r\nQ 44.046875 74.21875 50.515625 64.515625 \r\nQ 56.984375 54.828125 56.984375 36.375 \r\nQ 56.984375 17.96875 50.515625 8.265625 \r\nQ 44.046875 -1.421875 31.78125 -1.421875 \r\nQ 19.53125 -1.421875 13.0625 8.265625 \r\nQ 6.59375 17.96875 6.59375 36.375 \r\nQ 6.59375 54.828125 13.0625 64.515625 \r\nQ 19.53125 74.21875 31.78125 74.21875 \r\nz\r\n\" id=\"DejaVuSans-48\"/>\r\n       </defs>\r\n       <use xlink:href=\"#DejaVuSans-48\"/>\r\n      </g>\r\n     </g>\r\n    </g>\r\n    <g id=\"xtick_2\">\r\n     <g id=\"line2d_2\">\r\n      <g>\r\n       <use style=\"stroke:#000000;stroke-width:0.8;\" x=\"69.636429\" xlink:href=\"#madfb344398\" y=\"224.64\"/>\r\n      </g>\r\n     </g>\r\n     <g id=\"text_2\">\r\n      <!-- 5 -->\r\n      <g transform=\"translate(66.455179 239.238437)scale(0.1 -0.1)\">\r\n       <defs>\r\n        <path d=\"M 10.796875 72.90625 \r\nL 49.515625 72.90625 \r\nL 49.515625 64.59375 \r\nL 19.828125 64.59375 \r\nL 19.828125 46.734375 \r\nQ 21.96875 47.46875 24.109375 47.828125 \r\nQ 26.265625 48.1875 28.421875 48.1875 \r\nQ 40.625 48.1875 47.75 41.5 \r\nQ 54.890625 34.8125 54.890625 23.390625 \r\nQ 54.890625 11.625 47.5625 5.09375 \r\nQ 40.234375 -1.421875 26.90625 -1.421875 \r\nQ 22.3125 -1.421875 17.546875 -0.640625 \r\nQ 12.796875 0.140625 7.71875 1.703125 \r\nL 7.71875 11.625 \r\nQ 12.109375 9.234375 16.796875 8.0625 \r\nQ 21.484375 6.890625 26.703125 6.890625 \r\nQ 35.15625 6.890625 40.078125 11.328125 \r\nQ 45.015625 15.765625 45.015625 23.390625 \r\nQ 45.015625 31 40.078125 35.4375 \r\nQ 35.15625 39.890625 26.703125 39.890625 \r\nQ 22.75 39.890625 18.8125 39.015625 \r\nQ 14.890625 38.140625 10.796875 36.28125 \r\nz\r\n\" id=\"DejaVuSans-53\"/>\r\n       </defs>\r\n       <use xlink:href=\"#DejaVuSans-53\"/>\r\n      </g>\r\n     </g>\r\n    </g>\r\n    <g id=\"xtick_3\">\r\n     <g id=\"line2d_3\">\r\n      <g>\r\n       <use style=\"stroke:#000000;stroke-width:0.8;\" x=\"108.465\" xlink:href=\"#madfb344398\" y=\"224.64\"/>\r\n      </g>\r\n     </g>\r\n     <g id=\"text_3\">\r\n      <!-- 10 -->\r\n      <g transform=\"translate(102.1025 239.238437)scale(0.1 -0.1)\">\r\n       <defs>\r\n        <path d=\"M 12.40625 8.296875 \r\nL 28.515625 8.296875 \r\nL 28.515625 63.921875 \r\nL 10.984375 60.40625 \r\nL 10.984375 69.390625 \r\nL 28.421875 72.90625 \r\nL 38.28125 72.90625 \r\nL 38.28125 8.296875 \r\nL 54.390625 8.296875 \r\nL 54.390625 0 \r\nL 12.40625 0 \r\nz\r\n\" id=\"DejaVuSans-49\"/>\r\n       </defs>\r\n       <use xlink:href=\"#DejaVuSans-49\"/>\r\n       <use x=\"63.623047\" xlink:href=\"#DejaVuSans-48\"/>\r\n      </g>\r\n     </g>\r\n    </g>\r\n    <g id=\"xtick_4\">\r\n     <g id=\"line2d_4\">\r\n      <g>\r\n       <use style=\"stroke:#000000;stroke-width:0.8;\" x=\"147.293571\" xlink:href=\"#madfb344398\" y=\"224.64\"/>\r\n      </g>\r\n     </g>\r\n     <g id=\"text_4\">\r\n      <!-- 15 -->\r\n      <g transform=\"translate(140.931071 239.238437)scale(0.1 -0.1)\">\r\n       <use xlink:href=\"#DejaVuSans-49\"/>\r\n       <use x=\"63.623047\" xlink:href=\"#DejaVuSans-53\"/>\r\n      </g>\r\n     </g>\r\n    </g>\r\n    <g id=\"xtick_5\">\r\n     <g id=\"line2d_5\">\r\n      <g>\r\n       <use style=\"stroke:#000000;stroke-width:0.8;\" x=\"186.122143\" xlink:href=\"#madfb344398\" y=\"224.64\"/>\r\n      </g>\r\n     </g>\r\n     <g id=\"text_5\">\r\n      <!-- 20 -->\r\n      <g transform=\"translate(179.759643 239.238437)scale(0.1 -0.1)\">\r\n       <defs>\r\n        <path d=\"M 19.1875 8.296875 \r\nL 53.609375 8.296875 \r\nL 53.609375 0 \r\nL 7.328125 0 \r\nL 7.328125 8.296875 \r\nQ 12.9375 14.109375 22.625 23.890625 \r\nQ 32.328125 33.6875 34.8125 36.53125 \r\nQ 39.546875 41.84375 41.421875 45.53125 \r\nQ 43.3125 49.21875 43.3125 52.78125 \r\nQ 43.3125 58.59375 39.234375 62.25 \r\nQ 35.15625 65.921875 28.609375 65.921875 \r\nQ 23.96875 65.921875 18.8125 64.3125 \r\nQ 13.671875 62.703125 7.8125 59.421875 \r\nL 7.8125 69.390625 \r\nQ 13.765625 71.78125 18.9375 73 \r\nQ 24.125 74.21875 28.421875 74.21875 \r\nQ 39.75 74.21875 46.484375 68.546875 \r\nQ 53.21875 62.890625 53.21875 53.421875 \r\nQ 53.21875 48.921875 51.53125 44.890625 \r\nQ 49.859375 40.875 45.40625 35.40625 \r\nQ 44.1875 33.984375 37.640625 27.21875 \r\nQ 31.109375 20.453125 19.1875 8.296875 \r\nz\r\n\" id=\"DejaVuSans-50\"/>\r\n       </defs>\r\n       <use xlink:href=\"#DejaVuSans-50\"/>\r\n       <use x=\"63.623047\" xlink:href=\"#DejaVuSans-48\"/>\r\n      </g>\r\n     </g>\r\n    </g>\r\n    <g id=\"xtick_6\">\r\n     <g id=\"line2d_6\">\r\n      <g>\r\n       <use style=\"stroke:#000000;stroke-width:0.8;\" x=\"224.950714\" xlink:href=\"#madfb344398\" y=\"224.64\"/>\r\n      </g>\r\n     </g>\r\n     <g id=\"text_6\">\r\n      <!-- 25 -->\r\n      <g transform=\"translate(218.588214 239.238437)scale(0.1 -0.1)\">\r\n       <use xlink:href=\"#DejaVuSans-50\"/>\r\n       <use x=\"63.623047\" xlink:href=\"#DejaVuSans-53\"/>\r\n      </g>\r\n     </g>\r\n    </g>\r\n   </g>\r\n   <g id=\"matplotlib.axis_2\">\r\n    <g id=\"ytick_1\">\r\n     <g id=\"line2d_7\">\r\n      <defs>\r\n       <path d=\"M 0 0 \r\nL -3.5 0 \r\n\" id=\"mef3ace00b2\" style=\"stroke:#000000;stroke-width:0.8;\"/>\r\n      </defs>\r\n      <g>\r\n       <use style=\"stroke:#000000;stroke-width:0.8;\" x=\"26.925\" xlink:href=\"#mef3ace00b2\" y=\"11.082857\"/>\r\n      </g>\r\n     </g>\r\n     <g id=\"text_7\">\r\n      <!-- 0 -->\r\n      <g transform=\"translate(13.5625 14.882076)scale(0.1 -0.1)\">\r\n       <use xlink:href=\"#DejaVuSans-48\"/>\r\n      </g>\r\n     </g>\r\n    </g>\r\n    <g id=\"ytick_2\">\r\n     <g id=\"line2d_8\">\r\n      <g>\r\n       <use style=\"stroke:#000000;stroke-width:0.8;\" x=\"26.925\" xlink:href=\"#mef3ace00b2\" y=\"49.911429\"/>\r\n      </g>\r\n     </g>\r\n     <g id=\"text_8\">\r\n      <!-- 5 -->\r\n      <g transform=\"translate(13.5625 53.710647)scale(0.1 -0.1)\">\r\n       <use xlink:href=\"#DejaVuSans-53\"/>\r\n      </g>\r\n     </g>\r\n    </g>\r\n    <g id=\"ytick_3\">\r\n     <g id=\"line2d_9\">\r\n      <g>\r\n       <use style=\"stroke:#000000;stroke-width:0.8;\" x=\"26.925\" xlink:href=\"#mef3ace00b2\" y=\"88.74\"/>\r\n      </g>\r\n     </g>\r\n     <g id=\"text_9\">\r\n      <!-- 10 -->\r\n      <g transform=\"translate(7.2 92.539219)scale(0.1 -0.1)\">\r\n       <use xlink:href=\"#DejaVuSans-49\"/>\r\n       <use x=\"63.623047\" xlink:href=\"#DejaVuSans-48\"/>\r\n      </g>\r\n     </g>\r\n    </g>\r\n    <g id=\"ytick_4\">\r\n     <g id=\"line2d_10\">\r\n      <g>\r\n       <use style=\"stroke:#000000;stroke-width:0.8;\" x=\"26.925\" xlink:href=\"#mef3ace00b2\" y=\"127.568571\"/>\r\n      </g>\r\n     </g>\r\n     <g id=\"text_10\">\r\n      <!-- 15 -->\r\n      <g transform=\"translate(7.2 131.36779)scale(0.1 -0.1)\">\r\n       <use xlink:href=\"#DejaVuSans-49\"/>\r\n       <use x=\"63.623047\" xlink:href=\"#DejaVuSans-53\"/>\r\n      </g>\r\n     </g>\r\n    </g>\r\n    <g id=\"ytick_5\">\r\n     <g id=\"line2d_11\">\r\n      <g>\r\n       <use style=\"stroke:#000000;stroke-width:0.8;\" x=\"26.925\" xlink:href=\"#mef3ace00b2\" y=\"166.397143\"/>\r\n      </g>\r\n     </g>\r\n     <g id=\"text_11\">\r\n      <!-- 20 -->\r\n      <g transform=\"translate(7.2 170.196362)scale(0.1 -0.1)\">\r\n       <use xlink:href=\"#DejaVuSans-50\"/>\r\n       <use x=\"63.623047\" xlink:href=\"#DejaVuSans-48\"/>\r\n      </g>\r\n     </g>\r\n    </g>\r\n    <g id=\"ytick_6\">\r\n     <g id=\"line2d_12\">\r\n      <g>\r\n       <use style=\"stroke:#000000;stroke-width:0.8;\" x=\"26.925\" xlink:href=\"#mef3ace00b2\" y=\"205.225714\"/>\r\n      </g>\r\n     </g>\r\n     <g id=\"text_12\">\r\n      <!-- 25 -->\r\n      <g transform=\"translate(7.2 209.024933)scale(0.1 -0.1)\">\r\n       <use xlink:href=\"#DejaVuSans-50\"/>\r\n       <use x=\"63.623047\" xlink:href=\"#DejaVuSans-53\"/>\r\n      </g>\r\n     </g>\r\n    </g>\r\n   </g>\r\n   <g id=\"patch_3\">\r\n    <path d=\"M 26.925 224.64 \r\nL 26.925 7.2 \r\n\" style=\"fill:none;stroke:#000000;stroke-linecap:square;stroke-linejoin:miter;stroke-width:0.8;\"/>\r\n   </g>\r\n   <g id=\"patch_4\">\r\n    <path d=\"M 244.365 224.64 \r\nL 244.365 7.2 \r\n\" style=\"fill:none;stroke:#000000;stroke-linecap:square;stroke-linejoin:miter;stroke-width:0.8;\"/>\r\n   </g>\r\n   <g id=\"patch_5\">\r\n    <path d=\"M 26.925 224.64 \r\nL 244.365 224.64 \r\n\" style=\"fill:none;stroke:#000000;stroke-linecap:square;stroke-linejoin:miter;stroke-width:0.8;\"/>\r\n   </g>\r\n   <g id=\"patch_6\">\r\n    <path d=\"M 26.925 7.2 \r\nL 244.365 7.2 \r\n\" style=\"fill:none;stroke:#000000;stroke-linecap:square;stroke-linejoin:miter;stroke-width:0.8;\"/>\r\n   </g>\r\n  </g>\r\n </g>\r\n <defs>\r\n  <clipPath id=\"pfd3c864220\">\r\n   <rect height=\"217.44\" width=\"217.44\" x=\"26.925\" y=\"7.2\"/>\r\n  </clipPath>\r\n </defs>\r\n</svg>\r\n",
      "image/png": "[encoded data removed]"
     },
     "metadata": {
      "needs_background": "light"
     }
    }
   ],
   "source": [
    "display_image(X.loc[5].values,y.loc[5])"
   ]
  },
  {
   "cell_type": "code",
   "execution_count": 18,
   "metadata": {},
   "outputs": [
    {
     "output_type": "stream",
     "name": "stdout",
     "text": [
      "Actual label T-shirt/top\n"
     ]
    },
    {
     "output_type": "display_data",
     "data": {
      "text/plain": "<Figure size 432x288 with 1 Axes>",
      "image/svg+xml": "<?xml version=\"1.0\" encoding=\"utf-8\" standalone=\"no\"?>\r\n<!DOCTYPE svg PUBLIC \"-//W3C//DTD SVG 1.1//EN\"\r\n  \"http://www.w3.org/Graphics/SVG/1.1/DTD/svg11.dtd\">\r\n<!-- Created with matplotlib (https://matplotlib.org/) -->\r\n<svg height=\"248.518125pt\" version=\"1.1\" viewBox=\"0 0 251.565 248.518125\" width=\"251.565pt\" xmlns=\"http://www.w3.org/2000/svg\" xmlns:xlink=\"http://www.w3.org/1999/xlink\">\r\n <metadata>\r\n  <rdf:RDF xmlns:cc=\"http://creativecommons.org/ns#\" xmlns:dc=\"http://purl.org/dc/elements/1.1/\" xmlns:rdf=\"http://www.w3.org/1999/02/22-rdf-syntax-ns#\">\r\n   <cc:Work>\r\n    <dc:type rdf:resource=\"http://purl.org/dc/dcmitype/StillImage\"/>\r\n    <dc:date>2021-05-22T21:16:44.286994</dc:date>\r\n    <dc:format>image/svg+xml</dc:format>\r\n    <dc:creator>\r\n     <cc:Agent>\r\n      <dc:title>Matplotlib v3.3.4, https://matplotlib.org/</dc:title>\r\n     </cc:Agent>\r\n    </dc:creator>\r\n   </cc:Work>\r\n  </rdf:RDF>\r\n </metadata>\r\n <defs>\r\n  <style type=\"text/css\">*{stroke-linecap:butt;stroke-linejoin:round;}</style>\r\n </defs>\r\n <g id=\"figure_1\">\r\n  <g id=\"patch_1\">\r\n   <path d=\"M 0 248.518125 \r\nL 251.565 248.518125 \r\nL 251.565 0 \r\nL 0 0 \r\nz\r\n\" style=\"fill:none;\"/>\r\n  </g>\r\n  <g id=\"axes_1\">\r\n   <g id=\"patch_2\">\r\n    <path d=\"M 26.925 224.64 \r\nL 244.365 224.64 \r\nL 244.365 7.2 \r\nL 26.925 7.2 \r\nz\r\n\" style=\"fill:#ffffff;\"/>\r\n   </g>\r\n   <g clip-path=\"url(#p2dbeea1a2f)\">\r\n    <image height=\"218\" id=\"image3a3c83616f\" transform=\"scale(1 -1)translate(0 -218)\" width=\"218\" x=\"26.925\" xlink:href=\"data:image/png;base64,\r\niVBORw0KGgoAAAANSUhEUgAAANoAAADaCAYAAADAHVzbAAAK+UlEQVR4nO3dXYicZxnG8eed2Zmd/ch+ZbNJ89kkDSRGi1RRW0MpNEK10JzkQPCriGgVKi2IJyp4ECEoiiT2rDZQRVBqKYKCtSA1mi7axpigodXUZDcxu9lks5vdnZ2dj/f1QDzzuW7dce6ZbP6/0yvvzOxMrnlhbp7nSQ4mh7PQqXJ5naeNVT/03Cful/n8HuOpizpvFONva2K940be6EtlntQTmXct5eKhfuhQvKUfe92EfoCBH43rJ1Ba+P+h1cQ7DuD/haIBDiga4ICiAQ4oGuCAogEOKBrgoKvdL0DJlbplnpbL0Wzuk3pO9tKRb8n87XqvzC0fLK3+O6yRGcMsQz5Z/XP/rtLcc/clNZl/6erno1n+16fltbliQeZphTkacEejaIADigY4oGiAA4oGOKBogAOKBjjo6DlaVquv+trU+MsmG3pGd6ayQ+ZD+fgML4QQTi/3R7NCov+unLlgTatlet1WXiw6s567bCzEu7t4XeZdcyvRrHMXRjaPOxrggKIBDiga4ICiAQ4oGuCAogEOOvrn/WYYv3CHorGvWiHRSy7UT+QhhLCh65Z+AU3IJc0tZall8Y99KdVjD+t9yRnvS24lvoymcxe5NI87GuCAogEOKBrggKIBDiga4ICiAQ4oGuBgzc7RzKOPgj5+qJUaxvebNaNTc7AQQmhkq//bUuNa67VVMr0lXFKu/M+v6d+y7PZdSMMdDXBA0QAHFA1wQNEABxQNcEDRAAcUDXBwx87RrC3ZLNYsrJlZViM099qsOVterGez/i5L2VjPFupNrDpLmaMBECga4ICiAQ4oGuCAogEOKBrggKIBDtbsHM3a+tDan9Bal2XNySqZPt5IaebYpRDso5cqaXzNmPXYlqoxw8uWl5t6/NsVdzTAAUUDHFA0wAFFAxxQNMABRQMcUDTAwZqdo+WMZU/N7uvYl6vKfHt+NppVrTmZMQRcSHtkblFnmM01euW1840+mVvzxXRxSeZS1tyMr524owEOKBrggKIBDiga4ICiAQ4oGuBgzf68nxhbk1nHC5VyNZlfqo7K/OXy/mg2VNBLRa6v9Mv8voFLMp+v65/oL68MR7PN3XPy2uEu/fN8uVGSeVbVY5G1ijsa4ICiAQ4oGuCAogEOKBrggKIBDiga4GDNztGMMZi5pZtaShJCCK/P75D5G5e3RbPE2A6udkUvRTm5abfMhwbKMp+ZGoxmj957Tl47Vrglc/M4rGz1Ry9lHNsEQKFogAOKBjigaIADigY4oGiAA4oGOOjsOVoT24vl6nrm0sj0d0zNOH6oJ68HdR/a9WY0e/lve+W1fZP6tS1X9XqzmfV6rd260fiasg3FBXntijjyqdWSnN7KrpN3o+OOBjigaIADigY4oGiAA4oGOKBogAOKBjjo7DlaC9WCXjfVML6DdvZel/n47M5olk3oOVjvtB4IFW/peVJlj943srsrfqbVxeX18tq7BudkHhrNHSm1VnFHAxxQNMABRQMcUDTAAUUDHFA0wMGa/Xk/aXLJRJrpn9CnVuJbtoUQwqWb8aORinP6sevGL+TFRb0E6MY1vV1duRT/eb9n44S+Ni3KHP8ZdzTAAUUDHFA0wAFFAxxQNMABRQMcUDTAwdqdoxnHAxVCfJYUQgg542il8/MbZb441R/N+vVTh75p/Q/m7tEf2+Bf9PdnWohf3/Ouqry2kOjXZh7bdIfijgY4oGiAA4oGOKBogAOKBjigaIADigY4WLNztKDHYKZSoudJ5ZpxNNJf429tfkU/9439+mMZPauPjKoO6FlWvRRfDze9MiCv3dMzLfNWytImP9Q24o4GOKBogAOKBjigaIADigY4oGiAA4oGOGjrHC3p0k9v5Vm9Li7Wz20d22SZW9RHL63sjK/b6lrQ32+jZ/W8aGVIv/b5nfrx82IMN7EQ348yhBB6R/QQMNfsAFNI8vrvNp85NRYCthB3NMABRQMcUDTAAUUDHFA0wAFFAxxQNMBBW+docg72X+RK/28vyDxvTF2Kxv6Flqw//tprfXrId63bmC/W9PXp1mWZZ7PxM876Gs3NF7848rrMT4UHVv3YWU2vEexk3NEABxQNcEDRAAcUDXBA0QAHFA1w0N5lMu/ZL/OrBwZlXhmL/0RfG0zltVP1czLf1DUv85Wy3m5u68/ib215TH+/ze3To4eeq/rn/eVCt8z3HrsSzcrP6tc2lC/L/Oh1/fP98qH3RbPJR/XfnVT1axt4U48mNh4/JfNW4o4GOKBogAOKBjigaIADigY4oGiAA4oGOGjrHO3AiTdk/tjAmVU/diHoOdofKttX/dghhJBV9Mxm3Vtz0Wxg3JjRDe+S+eDf9RKefNU4tmnyH9GsrzAmr7WWD5Vy+kipA18fj2YfHf69vHam0Sfz1x7cI/OTx0sybyXuaIADigY4oGiAA4oGOKBogAOKBjigaICDts7Rvn/qQZnf+/CEzGcb/dHMWk+WGt8xDePcp5HN+vEbf35L5sqWo1OrvjaEEPS0KYT86PpodmFmVF57bdM6mY8Vbsl8W+FGNPvlol6fOJJfkvmJP90v83vCH2XeStzRAAcUDXBA0QAHFA1wQNEABxQNcEDRAAdtnaMVbup1U4/16T0Ef7IY31sxZ6xHq6R6X8ZC0OuuvvmOn8r8O5sORrOJj++W1773sN5z8vxxPW+ql/QMcGx8NprlTus52UPvvyjzZ24ckLmaow3m9XFTh/r1UVxHlvRn2k7c0QAHFA1wQNEABxQNcEDRAAcUDXBA0QAH7T0fTY+qTAuNnmhWy/SfVjCefKquz2az1rtNHYrvzXj0iefktT+Y1meMjZy5KfPLj8TXm4UQwuy7h6PZ85/9rrz25PIOmY8WFvRzizWEK8Zs02LNZduJOxrggKIBDiga4ICiAQ4oGuCAogEO2vrzfq6ul3P8pqKvLyT1aFbL9E+96tp/Xa/fmoU0PloIIYRXvvrtaPar5bvktV/b8nOZPzX6BZlve/GKzM8/vSma7TN+YX9lcUTmg3m9tGmu0RvNrM/sVeN9676h/z+1E3c0wAFFAxxQNMABRQMcUDTAAUUDHFA0wEFb52jbf6GXVJQ+VZN5Oe2OZrkkk9fmje3orDnbTF1vy/bs/IZoVjIee3dhRuYffuZV/dw/fkTmxz8SX6bzw4W75bW9uarMK5kexKlZmfW+qBlcCCFs/d5pmetPvLW4owEOKBrggKIBDiga4ICiAQ4oGuCAogEOkoPJYT1waqPuV+PrpkII4ciOl6JZ2di67GJtVOY3xLZoIdjb1TWjaMyT9havynxfUc+6XljYGc0W0pK81lozttHYhk9t05ca3/tPvvhpme/68msybyfuaIADigY4oGiAA4oGOKBogAOKBjigaICDjp6jWRoP3RfN3n5c7/E3/vAxmV+sF2U+WdNHI03W4vsf5oN+y+fFcVQhhFBu6Nc2XFiSuZoBbi7oI6G2dOncWo/25HOfi2Y7jp2T16YLev1iJ+OOBjigaIADigY4oGiAA4oGOKBogIPb+uf9Vpp66gGZP/3ECzJ/fOBaNDtb1edRbc7rJTiX63qXwIpx5FQuiW+8Zm3p9pVvfEbmIyc6d6lKO3FHAxxQNMABRQMcUDTAAUUDHFA0wAFFAxx09hwt0Utdknx867Osrrdsa7X5j30gms2+U/9dteHmtrLrntZztMEL8Y986PkWz8HUZ5oY3/tp67b4azXuaIADigY4oGiAA4oGOKBogAOKBjigaICDfwJjj3S4U8u2XwAAAABJRU5ErkJggg==\" y=\"-6.64\"/>\r\n   </g>\r\n   <g id=\"matplotlib.axis_1\">\r\n    <g id=\"xtick_1\">\r\n     <g id=\"line2d_1\">\r\n      <defs>\r\n       <path d=\"M 0 0 \r\nL 0 3.5 \r\n\" id=\"m9961c2f90a\" style=\"stroke:#000000;stroke-width:0.8;\"/>\r\n      </defs>\r\n      <g>\r\n       <use style=\"stroke:#000000;stroke-width:0.8;\" x=\"30.807857\" xlink:href=\"#m9961c2f90a\" y=\"224.64\"/>\r\n      </g>\r\n     </g>\r\n     <g id=\"text_1\">\r\n      <!-- 0 -->\r\n      <g transform=\"translate(27.626607 239.238437)scale(0.1 -0.1)\">\r\n       <defs>\r\n        <path d=\"M 31.78125 66.40625 \r\nQ 24.171875 66.40625 20.328125 58.90625 \r\nQ 16.5 51.421875 16.5 36.375 \r\nQ 16.5 21.390625 20.328125 13.890625 \r\nQ 24.171875 6.390625 31.78125 6.390625 \r\nQ 39.453125 6.390625 43.28125 13.890625 \r\nQ 47.125 21.390625 47.125 36.375 \r\nQ 47.125 51.421875 43.28125 58.90625 \r\nQ 39.453125 66.40625 31.78125 66.40625 \r\nz\r\nM 31.78125 74.21875 \r\nQ 44.046875 74.21875 50.515625 64.515625 \r\nQ 56.984375 54.828125 56.984375 36.375 \r\nQ 56.984375 17.96875 50.515625 8.265625 \r\nQ 44.046875 -1.421875 31.78125 -1.421875 \r\nQ 19.53125 -1.421875 13.0625 8.265625 \r\nQ 6.59375 17.96875 6.59375 36.375 \r\nQ 6.59375 54.828125 13.0625 64.515625 \r\nQ 19.53125 74.21875 31.78125 74.21875 \r\nz\r\n\" id=\"DejaVuSans-48\"/>\r\n       </defs>\r\n       <use xlink:href=\"#DejaVuSans-48\"/>\r\n      </g>\r\n     </g>\r\n    </g>\r\n    <g id=\"xtick_2\">\r\n     <g id=\"line2d_2\">\r\n      <g>\r\n       <use style=\"stroke:#000000;stroke-width:0.8;\" x=\"69.636429\" xlink:href=\"#m9961c2f90a\" y=\"224.64\"/>\r\n      </g>\r\n     </g>\r\n     <g id=\"text_2\">\r\n      <!-- 5 -->\r\n      <g transform=\"translate(66.455179 239.238437)scale(0.1 -0.1)\">\r\n       <defs>\r\n        <path d=\"M 10.796875 72.90625 \r\nL 49.515625 72.90625 \r\nL 49.515625 64.59375 \r\nL 19.828125 64.59375 \r\nL 19.828125 46.734375 \r\nQ 21.96875 47.46875 24.109375 47.828125 \r\nQ 26.265625 48.1875 28.421875 48.1875 \r\nQ 40.625 48.1875 47.75 41.5 \r\nQ 54.890625 34.8125 54.890625 23.390625 \r\nQ 54.890625 11.625 47.5625 5.09375 \r\nQ 40.234375 -1.421875 26.90625 -1.421875 \r\nQ 22.3125 -1.421875 17.546875 -0.640625 \r\nQ 12.796875 0.140625 7.71875 1.703125 \r\nL 7.71875 11.625 \r\nQ 12.109375 9.234375 16.796875 8.0625 \r\nQ 21.484375 6.890625 26.703125 6.890625 \r\nQ 35.15625 6.890625 40.078125 11.328125 \r\nQ 45.015625 15.765625 45.015625 23.390625 \r\nQ 45.015625 31 40.078125 35.4375 \r\nQ 35.15625 39.890625 26.703125 39.890625 \r\nQ 22.75 39.890625 18.8125 39.015625 \r\nQ 14.890625 38.140625 10.796875 36.28125 \r\nz\r\n\" id=\"DejaVuSans-53\"/>\r\n       </defs>\r\n       <use xlink:href=\"#DejaVuSans-53\"/>\r\n      </g>\r\n     </g>\r\n    </g>\r\n    <g id=\"xtick_3\">\r\n     <g id=\"line2d_3\">\r\n      <g>\r\n       <use style=\"stroke:#000000;stroke-width:0.8;\" x=\"108.465\" xlink:href=\"#m9961c2f90a\" y=\"224.64\"/>\r\n      </g>\r\n     </g>\r\n     <g id=\"text_3\">\r\n      <!-- 10 -->\r\n      <g transform=\"translate(102.1025 239.238437)scale(0.1 -0.1)\">\r\n       <defs>\r\n        <path d=\"M 12.40625 8.296875 \r\nL 28.515625 8.296875 \r\nL 28.515625 63.921875 \r\nL 10.984375 60.40625 \r\nL 10.984375 69.390625 \r\nL 28.421875 72.90625 \r\nL 38.28125 72.90625 \r\nL 38.28125 8.296875 \r\nL 54.390625 8.296875 \r\nL 54.390625 0 \r\nL 12.40625 0 \r\nz\r\n\" id=\"DejaVuSans-49\"/>\r\n       </defs>\r\n       <use xlink:href=\"#DejaVuSans-49\"/>\r\n       <use x=\"63.623047\" xlink:href=\"#DejaVuSans-48\"/>\r\n      </g>\r\n     </g>\r\n    </g>\r\n    <g id=\"xtick_4\">\r\n     <g id=\"line2d_4\">\r\n      <g>\r\n       <use style=\"stroke:#000000;stroke-width:0.8;\" x=\"147.293571\" xlink:href=\"#m9961c2f90a\" y=\"224.64\"/>\r\n      </g>\r\n     </g>\r\n     <g id=\"text_4\">\r\n      <!-- 15 -->\r\n      <g transform=\"translate(140.931071 239.238437)scale(0.1 -0.1)\">\r\n       <use xlink:href=\"#DejaVuSans-49\"/>\r\n       <use x=\"63.623047\" xlink:href=\"#DejaVuSans-53\"/>\r\n      </g>\r\n     </g>\r\n    </g>\r\n    <g id=\"xtick_5\">\r\n     <g id=\"line2d_5\">\r\n      <g>\r\n       <use style=\"stroke:#000000;stroke-width:0.8;\" x=\"186.122143\" xlink:href=\"#m9961c2f90a\" y=\"224.64\"/>\r\n      </g>\r\n     </g>\r\n     <g id=\"text_5\">\r\n      <!-- 20 -->\r\n      <g transform=\"translate(179.759643 239.238437)scale(0.1 -0.1)\">\r\n       <defs>\r\n        <path d=\"M 19.1875 8.296875 \r\nL 53.609375 8.296875 \r\nL 53.609375 0 \r\nL 7.328125 0 \r\nL 7.328125 8.296875 \r\nQ 12.9375 14.109375 22.625 23.890625 \r\nQ 32.328125 33.6875 34.8125 36.53125 \r\nQ 39.546875 41.84375 41.421875 45.53125 \r\nQ 43.3125 49.21875 43.3125 52.78125 \r\nQ 43.3125 58.59375 39.234375 62.25 \r\nQ 35.15625 65.921875 28.609375 65.921875 \r\nQ 23.96875 65.921875 18.8125 64.3125 \r\nQ 13.671875 62.703125 7.8125 59.421875 \r\nL 7.8125 69.390625 \r\nQ 13.765625 71.78125 18.9375 73 \r\nQ 24.125 74.21875 28.421875 74.21875 \r\nQ 39.75 74.21875 46.484375 68.546875 \r\nQ 53.21875 62.890625 53.21875 53.421875 \r\nQ 53.21875 48.921875 51.53125 44.890625 \r\nQ 49.859375 40.875 45.40625 35.40625 \r\nQ 44.1875 33.984375 37.640625 27.21875 \r\nQ 31.109375 20.453125 19.1875 8.296875 \r\nz\r\n\" id=\"DejaVuSans-50\"/>\r\n       </defs>\r\n       <use xlink:href=\"#DejaVuSans-50\"/>\r\n       <use x=\"63.623047\" xlink:href=\"#DejaVuSans-48\"/>\r\n      </g>\r\n     </g>\r\n    </g>\r\n    <g id=\"xtick_6\">\r\n     <g id=\"line2d_6\">\r\n      <g>\r\n       <use style=\"stroke:#000000;stroke-width:0.8;\" x=\"224.950714\" xlink:href=\"#m9961c2f90a\" y=\"224.64\"/>\r\n      </g>\r\n     </g>\r\n     <g id=\"text_6\">\r\n      <!-- 25 -->\r\n      <g transform=\"translate(218.588214 239.238437)scale(0.1 -0.1)\">\r\n       <use xlink:href=\"#DejaVuSans-50\"/>\r\n       <use x=\"63.623047\" xlink:href=\"#DejaVuSans-53\"/>\r\n      </g>\r\n     </g>\r\n    </g>\r\n   </g>\r\n   <g id=\"matplotlib.axis_2\">\r\n    <g id=\"ytick_1\">\r\n     <g id=\"line2d_7\">\r\n      <defs>\r\n       <path d=\"M 0 0 \r\nL -3.5 0 \r\n\" id=\"m16fa764606\" style=\"stroke:#000000;stroke-width:0.8;\"/>\r\n      </defs>\r\n      <g>\r\n       <use style=\"stroke:#000000;stroke-width:0.8;\" x=\"26.925\" xlink:href=\"#m16fa764606\" y=\"11.082857\"/>\r\n      </g>\r\n     </g>\r\n     <g id=\"text_7\">\r\n      <!-- 0 -->\r\n      <g transform=\"translate(13.5625 14.882076)scale(0.1 -0.1)\">\r\n       <use xlink:href=\"#DejaVuSans-48\"/>\r\n      </g>\r\n     </g>\r\n    </g>\r\n    <g id=\"ytick_2\">\r\n     <g id=\"line2d_8\">\r\n      <g>\r\n       <use style=\"stroke:#000000;stroke-width:0.8;\" x=\"26.925\" xlink:href=\"#m16fa764606\" y=\"49.911429\"/>\r\n      </g>\r\n     </g>\r\n     <g id=\"text_8\">\r\n      <!-- 5 -->\r\n      <g transform=\"translate(13.5625 53.710647)scale(0.1 -0.1)\">\r\n       <use xlink:href=\"#DejaVuSans-53\"/>\r\n      </g>\r\n     </g>\r\n    </g>\r\n    <g id=\"ytick_3\">\r\n     <g id=\"line2d_9\">\r\n      <g>\r\n       <use style=\"stroke:#000000;stroke-width:0.8;\" x=\"26.925\" xlink:href=\"#m16fa764606\" y=\"88.74\"/>\r\n      </g>\r\n     </g>\r\n     <g id=\"text_9\">\r\n      <!-- 10 -->\r\n      <g transform=\"translate(7.2 92.539219)scale(0.1 -0.1)\">\r\n       <use xlink:href=\"#DejaVuSans-49\"/>\r\n       <use x=\"63.623047\" xlink:href=\"#DejaVuSans-48\"/>\r\n      </g>\r\n     </g>\r\n    </g>\r\n    <g id=\"ytick_4\">\r\n     <g id=\"line2d_10\">\r\n      <g>\r\n       <use style=\"stroke:#000000;stroke-width:0.8;\" x=\"26.925\" xlink:href=\"#m16fa764606\" y=\"127.568571\"/>\r\n      </g>\r\n     </g>\r\n     <g id=\"text_10\">\r\n      <!-- 15 -->\r\n      <g transform=\"translate(7.2 131.36779)scale(0.1 -0.1)\">\r\n       <use xlink:href=\"#DejaVuSans-49\"/>\r\n       <use x=\"63.623047\" xlink:href=\"#DejaVuSans-53\"/>\r\n      </g>\r\n     </g>\r\n    </g>\r\n    <g id=\"ytick_5\">\r\n     <g id=\"line2d_11\">\r\n      <g>\r\n       <use style=\"stroke:#000000;stroke-width:0.8;\" x=\"26.925\" xlink:href=\"#m16fa764606\" y=\"166.397143\"/>\r\n      </g>\r\n     </g>\r\n     <g id=\"text_11\">\r\n      <!-- 20 -->\r\n      <g transform=\"translate(7.2 170.196362)scale(0.1 -0.1)\">\r\n       <use xlink:href=\"#DejaVuSans-50\"/>\r\n       <use x=\"63.623047\" xlink:href=\"#DejaVuSans-48\"/>\r\n      </g>\r\n     </g>\r\n    </g>\r\n    <g id=\"ytick_6\">\r\n     <g id=\"line2d_12\">\r\n      <g>\r\n       <use style=\"stroke:#000000;stroke-width:0.8;\" x=\"26.925\" xlink:href=\"#m16fa764606\" y=\"205.225714\"/>\r\n      </g>\r\n     </g>\r\n     <g id=\"text_12\">\r\n      <!-- 25 -->\r\n      <g transform=\"translate(7.2 209.024933)scale(0.1 -0.1)\">\r\n       <use xlink:href=\"#DejaVuSans-50\"/>\r\n       <use x=\"63.623047\" xlink:href=\"#DejaVuSans-53\"/>\r\n      </g>\r\n     </g>\r\n    </g>\r\n   </g>\r\n   <g id=\"patch_3\">\r\n    <path d=\"M 26.925 224.64 \r\nL 26.925 7.2 \r\n\" style=\"fill:none;stroke:#000000;stroke-linecap:square;stroke-linejoin:miter;stroke-width:0.8;\"/>\r\n   </g>\r\n   <g id=\"patch_4\">\r\n    <path d=\"M 244.365 224.64 \r\nL 244.365 7.2 \r\n\" style=\"fill:none;stroke:#000000;stroke-linecap:square;stroke-linejoin:miter;stroke-width:0.8;\"/>\r\n   </g>\r\n   <g id=\"patch_5\">\r\n    <path d=\"M 26.925 224.64 \r\nL 244.365 224.64 \r\n\" style=\"fill:none;stroke:#000000;stroke-linecap:square;stroke-linejoin:miter;stroke-width:0.8;\"/>\r\n   </g>\r\n   <g id=\"patch_6\">\r\n    <path d=\"M 26.925 7.2 \r\nL 244.365 7.2 \r\n\" style=\"fill:none;stroke:#000000;stroke-linecap:square;stroke-linejoin:miter;stroke-width:0.8;\"/>\r\n   </g>\r\n  </g>\r\n </g>\r\n <defs>\r\n  <clipPath id=\"p2dbeea1a2f\">\r\n   <rect height=\"217.44\" width=\"217.44\" x=\"26.925\" y=\"7.2\"/>\r\n  </clipPath>\r\n </defs>\r\n</svg>\r\n",
      "image/png": "[encoded data removed]"
     },
     "metadata": {
      "needs_background": "light"
     }
    }
   ],
   "source": [
    "display_image(X.loc[1115].values,y.loc[1115])"
   ]
  },
  {
   "cell_type": "code",
   "execution_count": 23,
   "metadata": {},
   "outputs": [
    {
     "output_type": "execute_result",
     "data": {
      "text/plain": [
       "   pixel1  pixel2  pixel3  pixel4  pixel5  pixel6  pixel7  pixel8  pixel9  \\\n",
       "0     0.0     0.0     0.0     0.0     0.0     0.0     0.0     0.0     0.0   \n",
       "1     0.0     0.0     0.0     0.0     0.0     0.0     0.0     0.0     0.0   \n",
       "2     0.0     0.0     0.0     0.0     0.0     0.0     0.0     0.0     0.0   \n",
       "3     0.0     0.0     0.0     0.0     0.0     0.0     0.0     0.0     0.0   \n",
       "4     0.0     0.0     0.0     0.0     0.0     0.0     0.0     0.0     0.0   \n",
       "\n",
       "   pixel10  ...  pixel775  pixel776  pixel777  pixel778  pixel779  pixel780  \\\n",
       "0      0.0  ...  0.000000  0.000000       0.0  0.000000   0.00000   0.00000   \n",
       "1      0.0  ...  0.000000  0.000000       0.0  0.000000   0.00000   0.00000   \n",
       "2      0.0  ...  0.000000  0.000000       0.0  0.000000   0.00000   0.00000   \n",
       "3      0.0  ...  0.003922  0.011765       0.0  0.207843   0.72549   0.67451   \n",
       "4      0.0  ...  0.000000  0.000000       0.0  0.000000   0.00000   0.00000   \n",
       "\n",
       "   pixel781  pixel782  pixel783  pixel784  \n",
       "0  0.000000       0.0       0.0       0.0  \n",
       "1  0.000000       0.0       0.0       0.0  \n",
       "2  0.000000       0.0       0.0       0.0  \n",
       "3  0.227451       0.0       0.0       0.0  \n",
       "4  0.000000       0.0       0.0       0.0  \n",
       "\n",
       "[5 rows x 784 columns]"
      ],
      "text/html": "<div>\n<style scoped>\n    .dataframe tbody tr th:only-of-type {\n        vertical-align: middle;\n    }\n\n    .dataframe tbody tr th {\n        vertical-align: top;\n    }\n\n    .dataframe thead th {\n        text-align: right;\n    }\n</style>\n<table border=\"1\" class=\"dataframe\">\n  <thead>\n    <tr style=\"text-align: right;\">\n      <th></th>\n      <th>pixel1</th>\n      <th>pixel2</th>\n      <th>pixel3</th>\n      <th>pixel4</th>\n      <th>pixel5</th>\n      <th>pixel6</th>\n      <th>pixel7</th>\n      <th>pixel8</th>\n      <th>pixel9</th>\n      <th>pixel10</th>\n      <th>...</th>\n      <th>pixel775</th>\n      <th>pixel776</th>\n      <th>pixel777</th>\n      <th>pixel778</th>\n      <th>pixel779</th>\n      <th>pixel780</th>\n      <th>pixel781</th>\n      <th>pixel782</th>\n      <th>pixel783</th>\n      <th>pixel784</th>\n    </tr>\n  </thead>\n  <tbody>\n    <tr>\n      <th>0</th>\n      <td>0.0</td>\n      <td>0.0</td>\n      <td>0.0</td>\n      <td>0.0</td>\n      <td>0.0</td>\n      <td>0.0</td>\n      <td>0.0</td>\n      <td>0.0</td>\n      <td>0.0</td>\n      <td>0.0</td>\n      <td>...</td>\n      <td>0.000000</td>\n      <td>0.000000</td>\n      <td>0.0</td>\n      <td>0.000000</td>\n      <td>0.00000</td>\n      <td>0.00000</td>\n      <td>0.000000</td>\n      <td>0.0</td>\n      <td>0.0</td>\n      <td>0.0</td>\n    </tr>\n    <tr>\n      <th>1</th>\n      <td>0.0</td>\n      <td>0.0</td>\n      <td>0.0</td>\n      <td>0.0</td>\n      <td>0.0</td>\n      <td>0.0</td>\n      <td>0.0</td>\n      <td>0.0</td>\n      <td>0.0</td>\n      <td>0.0</td>\n      <td>...</td>\n      <td>0.000000</td>\n      <td>0.000000</td>\n      <td>0.0</td>\n      <td>0.000000</td>\n      <td>0.00000</td>\n      <td>0.00000</td>\n      <td>0.000000</td>\n      <td>0.0</td>\n      <td>0.0</td>\n      <td>0.0</td>\n    </tr>\n    <tr>\n      <th>2</th>\n      <td>0.0</td>\n      <td>0.0</td>\n      <td>0.0</td>\n      <td>0.0</td>\n      <td>0.0</td>\n      <td>0.0</td>\n      <td>0.0</td>\n      <td>0.0</td>\n      <td>0.0</td>\n      <td>0.0</td>\n      <td>...</td>\n      <td>0.000000</td>\n      <td>0.000000</td>\n      <td>0.0</td>\n      <td>0.000000</td>\n      <td>0.00000</td>\n      <td>0.00000</td>\n      <td>0.000000</td>\n      <td>0.0</td>\n      <td>0.0</td>\n      <td>0.0</td>\n    </tr>\n    <tr>\n      <th>3</th>\n      <td>0.0</td>\n      <td>0.0</td>\n      <td>0.0</td>\n      <td>0.0</td>\n      <td>0.0</td>\n      <td>0.0</td>\n      <td>0.0</td>\n      <td>0.0</td>\n      <td>0.0</td>\n      <td>0.0</td>\n      <td>...</td>\n      <td>0.003922</td>\n      <td>0.011765</td>\n      <td>0.0</td>\n      <td>0.207843</td>\n      <td>0.72549</td>\n      <td>0.67451</td>\n      <td>0.227451</td>\n      <td>0.0</td>\n      <td>0.0</td>\n      <td>0.0</td>\n    </tr>\n    <tr>\n      <th>4</th>\n      <td>0.0</td>\n      <td>0.0</td>\n      <td>0.0</td>\n      <td>0.0</td>\n      <td>0.0</td>\n      <td>0.0</td>\n      <td>0.0</td>\n      <td>0.0</td>\n      <td>0.0</td>\n      <td>0.0</td>\n      <td>...</td>\n      <td>0.000000</td>\n      <td>0.000000</td>\n      <td>0.0</td>\n      <td>0.000000</td>\n      <td>0.00000</td>\n      <td>0.00000</td>\n      <td>0.000000</td>\n      <td>0.0</td>\n      <td>0.0</td>\n      <td>0.0</td>\n    </tr>\n  </tbody>\n</table>\n<p>5 rows × 784 columns</p>\n</div>"
     },
     "metadata": {},
     "execution_count": 23
    }
   ],
   "source": [
    "X = X/255.\n",
    "X.head()"
   ]
  },
  {
   "cell_type": "code",
   "execution_count": 24,
   "metadata": {},
   "outputs": [],
   "source": [
    "X_train,X_test,y_train,y_test=train_test_split(X,y,test_size=0.2)"
   ]
  },
  {
   "cell_type": "code",
   "execution_count": 25,
   "metadata": {},
   "outputs": [
    {
     "output_type": "execute_result",
     "data": {
      "text/plain": [
       "((2400, 784), (2400,))"
      ]
     },
     "metadata": {},
     "execution_count": 25
    }
   ],
   "source": [
    "X_train.shape,y_train.shape"
   ]
  },
  {
   "cell_type": "code",
   "execution_count": 26,
   "metadata": {},
   "outputs": [
    {
     "output_type": "execute_result",
     "data": {
      "text/plain": [
       "((600, 784), (600,))"
      ]
     },
     "metadata": {},
     "execution_count": 26
    }
   ],
   "source": [
    "X_test.shape,y_test.shape"
   ]
  },
  {
   "cell_type": "code",
   "execution_count": 28,
   "metadata": {},
   "outputs": [],
   "source": [
    "def summarize_classification(y_test,y_pred,avg_mehod='weighted'):\n",
    "    acc = accuracy_score(y_test,y_pred,normalize=True)\n",
    "    num_acc = accuracy_score(y_test,y_pred,normalize=False)\n",
    "\n",
    "    prec = precision_score(y_test,y_pred,average='weighted')\n",
    "    recall = recall_score(y_test,y_pred,average='weighted')\n",
    "\n",
    "    print('Test data count: ', len(y_test))\n",
    "    print('accuracy_count: ',num_acc)\n",
    "    print('acc_score: ',acc)\n",
    "    print('precision_score: ',prec)\n",
    "    print('recall_score: ',recall)"
   ]
  },
  {
   "cell_type": "code",
   "execution_count": 30,
   "metadata": {},
   "outputs": [],
   "source": [
    "logistic_model = LogisticRegression(solver='sag',multi_class='auto',max_iter=1000).fit(X_train,y_train)"
   ]
  },
  {
   "cell_type": "code",
   "execution_count": 31,
   "metadata": {},
   "outputs": [
    {
     "output_type": "execute_result",
     "data": {
      "text/plain": [
       "array([3, 8, 4, 0, 6, 9, 9, 7, 4, 6, 4, 0, 8, 2, 4, 6, 6, 0, 0, 6, 6, 6,\n",
       "       6, 4, 5, 2, 7, 3, 7, 0, 4, 4, 7, 8, 3, 3, 8, 7, 1, 4, 0, 9, 2, 1,\n",
       "       9, 1, 9, 4, 8, 6, 1, 0, 8, 8, 7, 3, 4, 1, 6, 9, 2, 8, 3, 7, 7, 4,\n",
       "       6, 2, 5, 8, 9, 8, 8, 4, 8, 6, 7, 3, 7, 1, 7, 5, 7, 6, 7, 7, 2, 4,\n",
       "       4, 4, 9, 1, 3, 5, 0, 5, 5, 3, 1, 2, 0, 7, 5, 8, 3, 7, 4, 0, 9, 4,\n",
       "       4, 7, 9, 5, 7, 7, 7, 8, 3, 2, 0, 6, 0, 7, 5, 8, 8, 8, 9, 6, 1, 2,\n",
       "       9, 4, 4, 9, 6, 4, 1, 0, 5, 3, 0, 3, 1, 9, 9, 4, 5, 6, 9, 1, 2, 5,\n",
       "       1, 9, 0, 4, 8, 7, 9, 6, 7, 2, 9, 5, 0, 8, 8, 2, 3, 8, 3, 1, 0, 4,\n",
       "       7, 9, 6, 3, 8, 7, 2, 6, 3, 7, 4, 8, 6, 3, 0, 0, 9, 0, 5, 0, 3, 5,\n",
       "       4, 3, 9, 3, 9, 4, 5, 2, 0, 2, 3, 7, 4, 3, 1, 0, 1, 8, 1, 1, 7, 9,\n",
       "       1, 3, 2, 6, 6, 0, 4, 4, 9, 7, 8, 7, 9, 3, 3, 1, 1, 5, 3, 0, 2, 5,\n",
       "       5, 6, 6, 1, 3, 8, 3, 1, 8, 4, 3, 5, 0, 6, 1, 2, 5, 5, 7, 0, 3, 3,\n",
       "       6, 9, 3, 8, 0, 7, 3, 7, 5, 5, 4, 3, 3, 7, 5, 6, 4, 5, 8, 6, 1, 6,\n",
       "       0, 8, 4, 3, 1, 6, 3, 7, 8, 2, 3, 4, 4, 1, 6, 4, 3, 7, 7, 0, 2, 2,\n",
       "       4, 8, 5, 3, 6, 4, 1, 4, 3, 5, 6, 8, 3, 4, 0, 1, 6, 1, 7, 1, 6, 2,\n",
       "       2, 1, 5, 8, 3, 6, 4, 5, 9, 0, 7, 9, 5, 4, 8, 9, 1, 4, 4, 5, 9, 9,\n",
       "       6, 1, 0, 9, 6, 0, 5, 9, 4, 1, 0, 8, 2, 6, 1, 0, 3, 6, 8, 5, 7, 5,\n",
       "       8, 7, 3, 8, 2, 6, 3, 0, 9, 4, 1, 7, 5, 0, 7, 3, 3, 9, 8, 1, 9, 4,\n",
       "       3, 8, 8, 8, 7, 3, 9, 8, 6, 5, 8, 7, 8, 3, 9, 1, 6, 0, 8, 8, 0, 5,\n",
       "       5, 5, 5, 5, 6, 1, 8, 0, 5, 3, 9, 2, 6, 0, 0, 0, 0, 2, 2, 6, 6, 0,\n",
       "       1, 3, 9, 6, 2, 8, 1, 8, 6, 6, 9, 4, 4, 5, 2, 4, 4, 9, 7, 6, 9, 5,\n",
       "       8, 2, 7, 0, 5, 3, 1, 5, 8, 4, 4, 0, 4, 5, 3, 6, 4, 4, 9, 3, 0, 0,\n",
       "       6, 0, 7, 5, 7, 4, 2, 5, 0, 8, 7, 0, 6, 0, 9, 8, 7, 2, 0, 8, 9, 8,\n",
       "       8, 7, 4, 4, 6, 9, 6, 6, 1, 3, 7, 7, 3, 5, 6, 4, 8, 0, 5, 6, 1, 0,\n",
       "       8, 4, 7, 1, 1, 0, 2, 3, 3, 1, 9, 5, 3, 9, 1, 9, 8, 1, 4, 9, 3, 4,\n",
       "       7, 2, 2, 1, 3, 7, 4, 9, 1, 7, 8, 0, 0, 5, 7, 7, 5, 3, 6, 2, 3, 4,\n",
       "       7, 0, 4, 0, 8, 2, 8, 6, 0, 4, 6, 7, 6, 4, 4, 7, 5, 8, 5, 2, 6, 5,\n",
       "       2, 4, 7, 6, 5, 5], dtype=int64)"
      ]
     },
     "metadata": {},
     "execution_count": 31
    }
   ],
   "source": [
    "y_pred = logistic_model.predict(X_test)\n",
    "y_pred"
   ]
  },
  {
   "cell_type": "code",
   "execution_count": 32,
   "metadata": {},
   "outputs": [
    {
     "output_type": "stream",
     "name": "stdout",
     "text": [
      "Test data count:  600\naccuracy_count:  501\nacc_score:  0.835\nprecision_score:  0.8428905630660505\nrecall_score:  0.835\n"
     ]
    }
   ],
   "source": [
    "summarize_classification(y_test,y_pred)"
   ]
  },
  {
   "cell_type": "code",
   "execution_count": null,
   "metadata": {},
   "outputs": [],
   "source": []
  }
 ]
}