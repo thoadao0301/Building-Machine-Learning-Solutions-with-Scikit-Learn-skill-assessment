{
 "metadata": {
  "language_info": {
   "codemirror_mode": {
    "name": "ipython",
    "version": 3
   },
   "file_extension": ".py",
   "mimetype": "text/x-python",
   "name": "python",
   "nbconvert_exporter": "python",
   "pygments_lexer": "ipython3",
   "version": "3.8.7"
  },
  "orig_nbformat": 2,
  "kernelspec": {
   "name": "python3",
   "display_name": "Python 3.8.7 64-bit"
  },
  "metadata": {
   "interpreter": {
    "hash": "f4fde45515710cbe4f4cf44a8ddef1b298277709bd6c5462499553af68a98f2e"
   }
  },
  "interpreter": {
   "hash": "f4fde45515710cbe4f4cf44a8ddef1b298277709bd6c5462499553af68a98f2e"
  }
 },
 "nbformat": 4,
 "nbformat_minor": 2,
 "cells": [
  {
   "cell_type": "code",
   "execution_count": 1,
   "source": [
    "import pandas as pd\r\n",
    "import numpy as np\r\n",
    "import matplotlib.pyplot as plt\r\n",
    "import seaborn as sns"
   ],
   "outputs": [],
   "metadata": {}
  },
  {
   "cell_type": "markdown",
   "source": [
    "# HR Analytics and Classification"
   ],
   "metadata": {}
  },
  {
   "cell_type": "markdown",
   "source": [
    "# Overview Dataset"
   ],
   "metadata": {}
  },
  {
   "cell_type": "code",
   "execution_count": 2,
   "source": [
    "data_dir = 'C:/Users/baoth/Desktop/Learnmore/DS/machine_learning_PS/data/HR_comma_sep.csv'"
   ],
   "outputs": [],
   "metadata": {}
  },
  {
   "cell_type": "code",
   "execution_count": 3,
   "source": [
    "df=pd.read_csv(data_dir)\r\n",
    "print('Shape of data: ',df.shape)"
   ],
   "outputs": [
    {
     "output_type": "stream",
     "name": "stdout",
     "text": [
      "Shape of data:  (14999, 10)\n"
     ]
    }
   ],
   "metadata": {}
  },
  {
   "cell_type": "markdown",
   "source": [
    "The provided data consists of about 15k observations with 10 columns.\r\n",
    "### First few observations"
   ],
   "metadata": {}
  },
  {
   "cell_type": "code",
   "execution_count": 4,
   "source": [
    "df.head()"
   ],
   "outputs": [
    {
     "output_type": "execute_result",
     "data": {
      "text/plain": [
       "   satisfaction_level  last_evaluation  number_project  average_montly_hours  \\\n",
       "0                0.38             0.53               2                   157   \n",
       "1                0.80             0.86               5                   262   \n",
       "2                0.11             0.88               7                   272   \n",
       "3                0.72             0.87               5                   223   \n",
       "4                0.37             0.52               2                   159   \n",
       "\n",
       "   time_spend_company  Work_accident  left  promotion_last_5years Department  \\\n",
       "0                   3              0     1                      0      sales   \n",
       "1                   6              0     1                      0      sales   \n",
       "2                   4              0     1                      0      sales   \n",
       "3                   5              0     1                      0      sales   \n",
       "4                   3              0     1                      0      sales   \n",
       "\n",
       "   salary  \n",
       "0     low  \n",
       "1  medium  \n",
       "2  medium  \n",
       "3     low  \n",
       "4     low  "
      ],
      "text/html": [
       "<div>\n",
       "<style scoped>\n",
       "    .dataframe tbody tr th:only-of-type {\n",
       "        vertical-align: middle;\n",
       "    }\n",
       "\n",
       "    .dataframe tbody tr th {\n",
       "        vertical-align: top;\n",
       "    }\n",
       "\n",
       "    .dataframe thead th {\n",
       "        text-align: right;\n",
       "    }\n",
       "</style>\n",
       "<table border=\"1\" class=\"dataframe\">\n",
       "  <thead>\n",
       "    <tr style=\"text-align: right;\">\n",
       "      <th></th>\n",
       "      <th>satisfaction_level</th>\n",
       "      <th>last_evaluation</th>\n",
       "      <th>number_project</th>\n",
       "      <th>average_montly_hours</th>\n",
       "      <th>time_spend_company</th>\n",
       "      <th>Work_accident</th>\n",
       "      <th>left</th>\n",
       "      <th>promotion_last_5years</th>\n",
       "      <th>Department</th>\n",
       "      <th>salary</th>\n",
       "    </tr>\n",
       "  </thead>\n",
       "  <tbody>\n",
       "    <tr>\n",
       "      <th>0</th>\n",
       "      <td>0.38</td>\n",
       "      <td>0.53</td>\n",
       "      <td>2</td>\n",
       "      <td>157</td>\n",
       "      <td>3</td>\n",
       "      <td>0</td>\n",
       "      <td>1</td>\n",
       "      <td>0</td>\n",
       "      <td>sales</td>\n",
       "      <td>low</td>\n",
       "    </tr>\n",
       "    <tr>\n",
       "      <th>1</th>\n",
       "      <td>0.80</td>\n",
       "      <td>0.86</td>\n",
       "      <td>5</td>\n",
       "      <td>262</td>\n",
       "      <td>6</td>\n",
       "      <td>0</td>\n",
       "      <td>1</td>\n",
       "      <td>0</td>\n",
       "      <td>sales</td>\n",
       "      <td>medium</td>\n",
       "    </tr>\n",
       "    <tr>\n",
       "      <th>2</th>\n",
       "      <td>0.11</td>\n",
       "      <td>0.88</td>\n",
       "      <td>7</td>\n",
       "      <td>272</td>\n",
       "      <td>4</td>\n",
       "      <td>0</td>\n",
       "      <td>1</td>\n",
       "      <td>0</td>\n",
       "      <td>sales</td>\n",
       "      <td>medium</td>\n",
       "    </tr>\n",
       "    <tr>\n",
       "      <th>3</th>\n",
       "      <td>0.72</td>\n",
       "      <td>0.87</td>\n",
       "      <td>5</td>\n",
       "      <td>223</td>\n",
       "      <td>5</td>\n",
       "      <td>0</td>\n",
       "      <td>1</td>\n",
       "      <td>0</td>\n",
       "      <td>sales</td>\n",
       "      <td>low</td>\n",
       "    </tr>\n",
       "    <tr>\n",
       "      <th>4</th>\n",
       "      <td>0.37</td>\n",
       "      <td>0.52</td>\n",
       "      <td>2</td>\n",
       "      <td>159</td>\n",
       "      <td>3</td>\n",
       "      <td>0</td>\n",
       "      <td>1</td>\n",
       "      <td>0</td>\n",
       "      <td>sales</td>\n",
       "      <td>low</td>\n",
       "    </tr>\n",
       "  </tbody>\n",
       "</table>\n",
       "</div>"
      ]
     },
     "metadata": {},
     "execution_count": 4
    }
   ],
   "metadata": {}
  },
  {
   "cell_type": "markdown",
   "source": [
    "### Features of data"
   ],
   "metadata": {}
  },
  {
   "cell_type": "code",
   "execution_count": 5,
   "source": [
    "df.info()"
   ],
   "outputs": [
    {
     "output_type": "stream",
     "name": "stdout",
     "text": [
      "<class 'pandas.core.frame.DataFrame'>\n",
      "RangeIndex: 14999 entries, 0 to 14998\n",
      "Data columns (total 10 columns):\n",
      " #   Column                 Non-Null Count  Dtype  \n",
      "---  ------                 --------------  -----  \n",
      " 0   satisfaction_level     14999 non-null  float64\n",
      " 1   last_evaluation        14999 non-null  float64\n",
      " 2   number_project         14999 non-null  int64  \n",
      " 3   average_montly_hours   14999 non-null  int64  \n",
      " 4   time_spend_company     14999 non-null  int64  \n",
      " 5   Work_accident          14999 non-null  int64  \n",
      " 6   left                   14999 non-null  int64  \n",
      " 7   promotion_last_5years  14999 non-null  int64  \n",
      " 8   Department             14999 non-null  object \n",
      " 9   salary                 14999 non-null  object \n",
      "dtypes: float64(2), int64(6), object(2)\n",
      "memory usage: 1.1+ MB\n"
     ]
    }
   ],
   "metadata": {}
  },
  {
   "cell_type": "markdown",
   "source": [
    "Almost type of features is Numeric columns, excepted Department and Salary is object type.\r\n",
    "### Check null value "
   ],
   "metadata": {}
  },
  {
   "cell_type": "code",
   "execution_count": 6,
   "source": [
    "df[df.isnull().any(axis=1)].count()"
   ],
   "outputs": [
    {
     "output_type": "execute_result",
     "data": {
      "text/plain": [
       "satisfaction_level       0\n",
       "last_evaluation          0\n",
       "number_project           0\n",
       "average_montly_hours     0\n",
       "time_spend_company       0\n",
       "Work_accident            0\n",
       "left                     0\n",
       "promotion_last_5years    0\n",
       "Department               0\n",
       "salary                   0\n",
       "dtype: int64"
      ]
     },
     "metadata": {},
     "execution_count": 6
    }
   ],
   "metadata": {}
  },
  {
   "cell_type": "markdown",
   "source": [
    "All of variables is not null values.\r\n",
    "### Feature Statistics Summary\r\n",
    "Below table provides the statistical details for each numeric columns (except Department, Salary, Left, Work_accident,promotion_last_5years)."
   ],
   "metadata": {}
  },
  {
   "cell_type": "code",
   "execution_count": 7,
   "source": [
    "df[['satisfaction_level','last_evaluation','number_project',\r\n",
    "'average_montly_hours','time_spend_company']].describe()"
   ],
   "outputs": [
    {
     "output_type": "execute_result",
     "data": {
      "text/plain": [
       "       satisfaction_level  last_evaluation  number_project  \\\n",
       "count        14999.000000     14999.000000    14999.000000   \n",
       "mean             0.612834         0.716102        3.803054   \n",
       "std              0.248631         0.171169        1.232592   \n",
       "min              0.090000         0.360000        2.000000   \n",
       "25%              0.440000         0.560000        3.000000   \n",
       "50%              0.640000         0.720000        4.000000   \n",
       "75%              0.820000         0.870000        5.000000   \n",
       "max              1.000000         1.000000        7.000000   \n",
       "\n",
       "       average_montly_hours  time_spend_company  \n",
       "count          14999.000000        14999.000000  \n",
       "mean             201.050337            3.498233  \n",
       "std               49.943099            1.460136  \n",
       "min               96.000000            2.000000  \n",
       "25%              156.000000            3.000000  \n",
       "50%              200.000000            3.000000  \n",
       "75%              245.000000            4.000000  \n",
       "max              310.000000           10.000000  "
      ],
      "text/html": [
       "<div>\n",
       "<style scoped>\n",
       "    .dataframe tbody tr th:only-of-type {\n",
       "        vertical-align: middle;\n",
       "    }\n",
       "\n",
       "    .dataframe tbody tr th {\n",
       "        vertical-align: top;\n",
       "    }\n",
       "\n",
       "    .dataframe thead th {\n",
       "        text-align: right;\n",
       "    }\n",
       "</style>\n",
       "<table border=\"1\" class=\"dataframe\">\n",
       "  <thead>\n",
       "    <tr style=\"text-align: right;\">\n",
       "      <th></th>\n",
       "      <th>satisfaction_level</th>\n",
       "      <th>last_evaluation</th>\n",
       "      <th>number_project</th>\n",
       "      <th>average_montly_hours</th>\n",
       "      <th>time_spend_company</th>\n",
       "    </tr>\n",
       "  </thead>\n",
       "  <tbody>\n",
       "    <tr>\n",
       "      <th>count</th>\n",
       "      <td>14999.000000</td>\n",
       "      <td>14999.000000</td>\n",
       "      <td>14999.000000</td>\n",
       "      <td>14999.000000</td>\n",
       "      <td>14999.000000</td>\n",
       "    </tr>\n",
       "    <tr>\n",
       "      <th>mean</th>\n",
       "      <td>0.612834</td>\n",
       "      <td>0.716102</td>\n",
       "      <td>3.803054</td>\n",
       "      <td>201.050337</td>\n",
       "      <td>3.498233</td>\n",
       "    </tr>\n",
       "    <tr>\n",
       "      <th>std</th>\n",
       "      <td>0.248631</td>\n",
       "      <td>0.171169</td>\n",
       "      <td>1.232592</td>\n",
       "      <td>49.943099</td>\n",
       "      <td>1.460136</td>\n",
       "    </tr>\n",
       "    <tr>\n",
       "      <th>min</th>\n",
       "      <td>0.090000</td>\n",
       "      <td>0.360000</td>\n",
       "      <td>2.000000</td>\n",
       "      <td>96.000000</td>\n",
       "      <td>2.000000</td>\n",
       "    </tr>\n",
       "    <tr>\n",
       "      <th>25%</th>\n",
       "      <td>0.440000</td>\n",
       "      <td>0.560000</td>\n",
       "      <td>3.000000</td>\n",
       "      <td>156.000000</td>\n",
       "      <td>3.000000</td>\n",
       "    </tr>\n",
       "    <tr>\n",
       "      <th>50%</th>\n",
       "      <td>0.640000</td>\n",
       "      <td>0.720000</td>\n",
       "      <td>4.000000</td>\n",
       "      <td>200.000000</td>\n",
       "      <td>3.000000</td>\n",
       "    </tr>\n",
       "    <tr>\n",
       "      <th>75%</th>\n",
       "      <td>0.820000</td>\n",
       "      <td>0.870000</td>\n",
       "      <td>5.000000</td>\n",
       "      <td>245.000000</td>\n",
       "      <td>4.000000</td>\n",
       "    </tr>\n",
       "    <tr>\n",
       "      <th>max</th>\n",
       "      <td>1.000000</td>\n",
       "      <td>1.000000</td>\n",
       "      <td>7.000000</td>\n",
       "      <td>310.000000</td>\n",
       "      <td>10.000000</td>\n",
       "    </tr>\n",
       "  </tbody>\n",
       "</table>\n",
       "</div>"
      ]
     },
     "metadata": {},
     "execution_count": 7
    }
   ],
   "metadata": {}
  },
  {
   "cell_type": "code",
   "execution_count": 8,
   "source": [
    "print('Feature Work accident count: ',df['Work_accident'].count())\r\n",
    "print('Feature Work accident value: ')\r\n",
    "df['Work_accident'].value_counts().to_frame()"
   ],
   "outputs": [
    {
     "output_type": "stream",
     "name": "stdout",
     "text": [
      "Feature Work accident count:  14999\n",
      "Feature Work accident value: \n"
     ]
    },
    {
     "output_type": "execute_result",
     "data": {
      "text/plain": [
       "   Work_accident\n",
       "0          12830\n",
       "1           2169"
      ],
      "text/html": [
       "<div>\n",
       "<style scoped>\n",
       "    .dataframe tbody tr th:only-of-type {\n",
       "        vertical-align: middle;\n",
       "    }\n",
       "\n",
       "    .dataframe tbody tr th {\n",
       "        vertical-align: top;\n",
       "    }\n",
       "\n",
       "    .dataframe thead th {\n",
       "        text-align: right;\n",
       "    }\n",
       "</style>\n",
       "<table border=\"1\" class=\"dataframe\">\n",
       "  <thead>\n",
       "    <tr style=\"text-align: right;\">\n",
       "      <th></th>\n",
       "      <th>Work_accident</th>\n",
       "    </tr>\n",
       "  </thead>\n",
       "  <tbody>\n",
       "    <tr>\n",
       "      <th>0</th>\n",
       "      <td>12830</td>\n",
       "    </tr>\n",
       "    <tr>\n",
       "      <th>1</th>\n",
       "      <td>2169</td>\n",
       "    </tr>\n",
       "  </tbody>\n",
       "</table>\n",
       "</div>"
      ]
     },
     "metadata": {},
     "execution_count": 8
    }
   ],
   "metadata": {}
  },
  {
   "cell_type": "markdown",
   "source": [
    "* **0**: worker does not get accident in work.\r\n",
    "* **1**: worker get accident in work."
   ],
   "metadata": {}
  },
  {
   "cell_type": "code",
   "execution_count": 9,
   "source": [
    "print('Feature promotion_last_5years count: ',df['promotion_last_5years'].count())\r\n",
    "print('Feature promotion_last_5years value: ')\r\n",
    "df['promotion_last_5years'].value_counts().to_frame()"
   ],
   "outputs": [
    {
     "output_type": "stream",
     "name": "stdout",
     "text": [
      "Feature promotion_last_5years count:  14999\n",
      "Feature promotion_last_5years value: \n"
     ]
    },
    {
     "output_type": "execute_result",
     "data": {
      "text/plain": [
       "   promotion_last_5years\n",
       "0                  14680\n",
       "1                    319"
      ],
      "text/html": [
       "<div>\n",
       "<style scoped>\n",
       "    .dataframe tbody tr th:only-of-type {\n",
       "        vertical-align: middle;\n",
       "    }\n",
       "\n",
       "    .dataframe tbody tr th {\n",
       "        vertical-align: top;\n",
       "    }\n",
       "\n",
       "    .dataframe thead th {\n",
       "        text-align: right;\n",
       "    }\n",
       "</style>\n",
       "<table border=\"1\" class=\"dataframe\">\n",
       "  <thead>\n",
       "    <tr style=\"text-align: right;\">\n",
       "      <th></th>\n",
       "      <th>promotion_last_5years</th>\n",
       "    </tr>\n",
       "  </thead>\n",
       "  <tbody>\n",
       "    <tr>\n",
       "      <th>0</th>\n",
       "      <td>14680</td>\n",
       "    </tr>\n",
       "    <tr>\n",
       "      <th>1</th>\n",
       "      <td>319</td>\n",
       "    </tr>\n",
       "  </tbody>\n",
       "</table>\n",
       "</div>"
      ]
     },
     "metadata": {},
     "execution_count": 9
    }
   ],
   "metadata": {}
  },
  {
   "cell_type": "markdown",
   "source": [
    "* **0**: worker does not promote in work in last 5 years.\r\n",
    "* **1**: worker promote in work in last 5 years."
   ],
   "metadata": {}
  },
  {
   "cell_type": "code",
   "execution_count": 11,
   "source": [
    "print('Feature Department count: ',df['Department'].count())\r\n",
    "print('Feature Department value: ')\r\n",
    "df['Department'].value_counts().to_frame()"
   ],
   "outputs": [
    {
     "output_type": "stream",
     "name": "stdout",
     "text": [
      "Feature Department count:  14999\n",
      "Feature Department value: \n"
     ]
    },
    {
     "output_type": "execute_result",
     "data": {
      "text/plain": [
       "             Department\n",
       "sales              4140\n",
       "technical          2720\n",
       "support            2229\n",
       "IT                 1227\n",
       "product_mng         902\n",
       "marketing           858\n",
       "RandD               787\n",
       "accounting          767\n",
       "hr                  739\n",
       "management          630"
      ],
      "text/html": [
       "<div>\n",
       "<style scoped>\n",
       "    .dataframe tbody tr th:only-of-type {\n",
       "        vertical-align: middle;\n",
       "    }\n",
       "\n",
       "    .dataframe tbody tr th {\n",
       "        vertical-align: top;\n",
       "    }\n",
       "\n",
       "    .dataframe thead th {\n",
       "        text-align: right;\n",
       "    }\n",
       "</style>\n",
       "<table border=\"1\" class=\"dataframe\">\n",
       "  <thead>\n",
       "    <tr style=\"text-align: right;\">\n",
       "      <th></th>\n",
       "      <th>Department</th>\n",
       "    </tr>\n",
       "  </thead>\n",
       "  <tbody>\n",
       "    <tr>\n",
       "      <th>sales</th>\n",
       "      <td>4140</td>\n",
       "    </tr>\n",
       "    <tr>\n",
       "      <th>technical</th>\n",
       "      <td>2720</td>\n",
       "    </tr>\n",
       "    <tr>\n",
       "      <th>support</th>\n",
       "      <td>2229</td>\n",
       "    </tr>\n",
       "    <tr>\n",
       "      <th>IT</th>\n",
       "      <td>1227</td>\n",
       "    </tr>\n",
       "    <tr>\n",
       "      <th>product_mng</th>\n",
       "      <td>902</td>\n",
       "    </tr>\n",
       "    <tr>\n",
       "      <th>marketing</th>\n",
       "      <td>858</td>\n",
       "    </tr>\n",
       "    <tr>\n",
       "      <th>RandD</th>\n",
       "      <td>787</td>\n",
       "    </tr>\n",
       "    <tr>\n",
       "      <th>accounting</th>\n",
       "      <td>767</td>\n",
       "    </tr>\n",
       "    <tr>\n",
       "      <th>hr</th>\n",
       "      <td>739</td>\n",
       "    </tr>\n",
       "    <tr>\n",
       "      <th>management</th>\n",
       "      <td>630</td>\n",
       "    </tr>\n",
       "  </tbody>\n",
       "</table>\n",
       "</div>"
      ]
     },
     "metadata": {},
     "execution_count": 11
    }
   ],
   "metadata": {}
  },
  {
   "cell_type": "code",
   "execution_count": 12,
   "source": [
    "print('Feature salary count: ',df['salary'].count())\r\n",
    "print('Feature salary value: ')\r\n",
    "df['salary'].value_counts().to_frame()"
   ],
   "outputs": [
    {
     "output_type": "stream",
     "name": "stdout",
     "text": [
      "Feature salary count:  14999\n",
      "Feature salary value: \n"
     ]
    },
    {
     "output_type": "execute_result",
     "data": {
      "text/plain": [
       "        salary\n",
       "low       7316\n",
       "medium    6446\n",
       "high      1237"
      ],
      "text/html": [
       "<div>\n",
       "<style scoped>\n",
       "    .dataframe tbody tr th:only-of-type {\n",
       "        vertical-align: middle;\n",
       "    }\n",
       "\n",
       "    .dataframe tbody tr th {\n",
       "        vertical-align: top;\n",
       "    }\n",
       "\n",
       "    .dataframe thead th {\n",
       "        text-align: right;\n",
       "    }\n",
       "</style>\n",
       "<table border=\"1\" class=\"dataframe\">\n",
       "  <thead>\n",
       "    <tr style=\"text-align: right;\">\n",
       "      <th></th>\n",
       "      <th>salary</th>\n",
       "    </tr>\n",
       "  </thead>\n",
       "  <tbody>\n",
       "    <tr>\n",
       "      <th>low</th>\n",
       "      <td>7316</td>\n",
       "    </tr>\n",
       "    <tr>\n",
       "      <th>medium</th>\n",
       "      <td>6446</td>\n",
       "    </tr>\n",
       "    <tr>\n",
       "      <th>high</th>\n",
       "      <td>1237</td>\n",
       "    </tr>\n",
       "  </tbody>\n",
       "</table>\n",
       "</div>"
      ]
     },
     "metadata": {},
     "execution_count": 12
    }
   ],
   "metadata": {}
  },
  {
   "cell_type": "code",
   "execution_count": 13,
   "source": [
    "print('Label count: ',df['left'].count())\r\n",
    "print('Label value: ')\r\n",
    "df['left'].value_counts().to_frame()"
   ],
   "outputs": [
    {
     "output_type": "stream",
     "name": "stdout",
     "text": [
      "Label count:  14999\n",
      "Label value: \n"
     ]
    },
    {
     "output_type": "execute_result",
     "data": {
      "text/plain": [
       "    left\n",
       "0  11428\n",
       "1   3571"
      ],
      "text/html": [
       "<div>\n",
       "<style scoped>\n",
       "    .dataframe tbody tr th:only-of-type {\n",
       "        vertical-align: middle;\n",
       "    }\n",
       "\n",
       "    .dataframe tbody tr th {\n",
       "        vertical-align: top;\n",
       "    }\n",
       "\n",
       "    .dataframe thead th {\n",
       "        text-align: right;\n",
       "    }\n",
       "</style>\n",
       "<table border=\"1\" class=\"dataframe\">\n",
       "  <thead>\n",
       "    <tr style=\"text-align: right;\">\n",
       "      <th></th>\n",
       "      <th>left</th>\n",
       "    </tr>\n",
       "  </thead>\n",
       "  <tbody>\n",
       "    <tr>\n",
       "      <th>0</th>\n",
       "      <td>11428</td>\n",
       "    </tr>\n",
       "    <tr>\n",
       "      <th>1</th>\n",
       "      <td>3571</td>\n",
       "    </tr>\n",
       "  </tbody>\n",
       "</table>\n",
       "</div>"
      ]
     },
     "metadata": {},
     "execution_count": 13
    }
   ],
   "metadata": {}
  },
  {
   "cell_type": "markdown",
   "source": [
    "* **0**: worker does not leave out organization.\r\n",
    "* **1**: worker leave out organization."
   ],
   "metadata": {}
  },
  {
   "cell_type": "markdown",
   "source": [
    "# Data visualization and Analytics"
   ],
   "metadata": {}
  },
  {
   "cell_type": "markdown",
   "source": [
    "## Worker Left VS Numeric Features\r\n",
    "### Workers Left VS satisfaction_level"
   ],
   "metadata": {}
  },
  {
   "cell_type": "code",
   "execution_count": 113,
   "source": [
    "data_s_left = df[['left','satisfaction_level']]\r\n",
    "sta = data_s_left.groupby('left').describe()\r\n",
    "print('Statistics of satisfaction_level')\r\n",
    "display(sta)\r\n",
    "sns.boxplot(x='left',y='satisfaction_level',data=data_s_left)\r\n",
    "plt.title('Boxplot of satisfaction level')\r\n",
    "plt.show()"
   ],
   "outputs": [
    {
     "output_type": "stream",
     "name": "stdout",
     "text": [
      "Statistics of satisfaction_level\n"
     ]
    },
    {
     "output_type": "display_data",
     "data": {
      "text/plain": [
       "     satisfaction_level                                                  \n",
       "                  count      mean       std   min   25%   50%   75%   max\n",
       "left                                                                     \n",
       "0               11428.0  0.666810  0.217104  0.12  0.54  0.69  0.84  1.00\n",
       "1                3571.0  0.440098  0.263933  0.09  0.13  0.41  0.73  0.92"
      ],
      "text/html": [
       "<div>\n",
       "<style scoped>\n",
       "    .dataframe tbody tr th:only-of-type {\n",
       "        vertical-align: middle;\n",
       "    }\n",
       "\n",
       "    .dataframe tbody tr th {\n",
       "        vertical-align: top;\n",
       "    }\n",
       "\n",
       "    .dataframe thead tr th {\n",
       "        text-align: left;\n",
       "    }\n",
       "\n",
       "    .dataframe thead tr:last-of-type th {\n",
       "        text-align: right;\n",
       "    }\n",
       "</style>\n",
       "<table border=\"1\" class=\"dataframe\">\n",
       "  <thead>\n",
       "    <tr>\n",
       "      <th></th>\n",
       "      <th colspan=\"8\" halign=\"left\">satisfaction_level</th>\n",
       "    </tr>\n",
       "    <tr>\n",
       "      <th></th>\n",
       "      <th>count</th>\n",
       "      <th>mean</th>\n",
       "      <th>std</th>\n",
       "      <th>min</th>\n",
       "      <th>25%</th>\n",
       "      <th>50%</th>\n",
       "      <th>75%</th>\n",
       "      <th>max</th>\n",
       "    </tr>\n",
       "    <tr>\n",
       "      <th>left</th>\n",
       "      <th></th>\n",
       "      <th></th>\n",
       "      <th></th>\n",
       "      <th></th>\n",
       "      <th></th>\n",
       "      <th></th>\n",
       "      <th></th>\n",
       "      <th></th>\n",
       "    </tr>\n",
       "  </thead>\n",
       "  <tbody>\n",
       "    <tr>\n",
       "      <th>0</th>\n",
       "      <td>11428.0</td>\n",
       "      <td>0.666810</td>\n",
       "      <td>0.217104</td>\n",
       "      <td>0.12</td>\n",
       "      <td>0.54</td>\n",
       "      <td>0.69</td>\n",
       "      <td>0.84</td>\n",
       "      <td>1.00</td>\n",
       "    </tr>\n",
       "    <tr>\n",
       "      <th>1</th>\n",
       "      <td>3571.0</td>\n",
       "      <td>0.440098</td>\n",
       "      <td>0.263933</td>\n",
       "      <td>0.09</td>\n",
       "      <td>0.13</td>\n",
       "      <td>0.41</td>\n",
       "      <td>0.73</td>\n",
       "      <td>0.92</td>\n",
       "    </tr>\n",
       "  </tbody>\n",
       "</table>\n",
       "</div>"
      ]
     },
     "metadata": {}
    },
    {
     "output_type": "display_data",
     "data": {
      "text/plain": [
       "<Figure size 432x288 with 1 Axes>"
      ],
      "image/png": "[encoded data removed]"
     },
     "metadata": {
      "needs_background": "light"
     }
    }
   ],
   "metadata": {}
  },
  {
   "cell_type": "code",
   "execution_count": 112,
   "source": [
    "fig, axs = plt.subplots(figsize=(25,5),nrows=1,ncols=2,constrained_layout=True)\r\n",
    "index_u = data_s_left['left'].unique()\r\n",
    "for i,k in enumerate(index_u):\r\n",
    "    data_m = data_s_left[data_s_left['left'] == k]\r\n",
    "    data_m['satisfaction_level'].plot(kind='hist',subplots=True,bins=50,ax=axs[i])\r\n",
    "    axs[i].set_title(k)\r\n",
    "fig.suptitle('Distribution of left(1) and non-left(0) workers base on the satisfaction level')\r\n",
    "plt.show()"
   ],
   "outputs": [
    {
     "output_type": "display_data",
     "data": {
      "text/plain": [
       "<Figure size 1800x360 with 2 Axes>"
      ],
      "image/png": "[encoded data removed]"
     },
     "metadata": {
      "needs_background": "light"
     }
    }
   ],
   "metadata": {}
  },
  {
   "cell_type": "markdown",
   "source": [
    "### Worker Left VS last_evaluation"
   ],
   "metadata": {}
  },
  {
   "cell_type": "code",
   "execution_count": 115,
   "source": [
    "data_eval_left = df[['left','last_evaluation']]\r\n",
    "sta = data_eval_left.groupby('left').describe()\r\n",
    "print('Statistic of last evaluation base on left and non-left workers')\r\n",
    "display(sta)\r\n",
    "sns.boxplot(x='left',y='last_evaluation',data=data_eval_left)\r\n",
    "plt.title('Boxplot of last evaluation')\r\n",
    "plt.show()"
   ],
   "outputs": [
    {
     "output_type": "stream",
     "name": "stdout",
     "text": [
      "Statistic of last evaluation basae on left and non-left workers\n"
     ]
    },
    {
     "output_type": "display_data",
     "data": {
      "text/plain": [
       "     last_evaluation                                                 \n",
       "               count      mean       std   min   25%   50%   75%  max\n",
       "left                                                                 \n",
       "0            11428.0  0.715473  0.162005  0.36  0.58  0.71  0.85  1.0\n",
       "1             3571.0  0.718113  0.197673  0.45  0.52  0.79  0.90  1.0"
      ],
      "text/html": [
       "<div>\n",
       "<style scoped>\n",
       "    .dataframe tbody tr th:only-of-type {\n",
       "        vertical-align: middle;\n",
       "    }\n",
       "\n",
       "    .dataframe tbody tr th {\n",
       "        vertical-align: top;\n",
       "    }\n",
       "\n",
       "    .dataframe thead tr th {\n",
       "        text-align: left;\n",
       "    }\n",
       "\n",
       "    .dataframe thead tr:last-of-type th {\n",
       "        text-align: right;\n",
       "    }\n",
       "</style>\n",
       "<table border=\"1\" class=\"dataframe\">\n",
       "  <thead>\n",
       "    <tr>\n",
       "      <th></th>\n",
       "      <th colspan=\"8\" halign=\"left\">last_evaluation</th>\n",
       "    </tr>\n",
       "    <tr>\n",
       "      <th></th>\n",
       "      <th>count</th>\n",
       "      <th>mean</th>\n",
       "      <th>std</th>\n",
       "      <th>min</th>\n",
       "      <th>25%</th>\n",
       "      <th>50%</th>\n",
       "      <th>75%</th>\n",
       "      <th>max</th>\n",
       "    </tr>\n",
       "    <tr>\n",
       "      <th>left</th>\n",
       "      <th></th>\n",
       "      <th></th>\n",
       "      <th></th>\n",
       "      <th></th>\n",
       "      <th></th>\n",
       "      <th></th>\n",
       "      <th></th>\n",
       "      <th></th>\n",
       "    </tr>\n",
       "  </thead>\n",
       "  <tbody>\n",
       "    <tr>\n",
       "      <th>0</th>\n",
       "      <td>11428.0</td>\n",
       "      <td>0.715473</td>\n",
       "      <td>0.162005</td>\n",
       "      <td>0.36</td>\n",
       "      <td>0.58</td>\n",
       "      <td>0.71</td>\n",
       "      <td>0.85</td>\n",
       "      <td>1.0</td>\n",
       "    </tr>\n",
       "    <tr>\n",
       "      <th>1</th>\n",
       "      <td>3571.0</td>\n",
       "      <td>0.718113</td>\n",
       "      <td>0.197673</td>\n",
       "      <td>0.45</td>\n",
       "      <td>0.52</td>\n",
       "      <td>0.79</td>\n",
       "      <td>0.90</td>\n",
       "      <td>1.0</td>\n",
       "    </tr>\n",
       "  </tbody>\n",
       "</table>\n",
       "</div>"
      ]
     },
     "metadata": {}
    },
    {
     "output_type": "display_data",
     "data": {
      "text/plain": [
       "<Figure size 432x288 with 1 Axes>"
      ],
      "image/png": "[encoded data removed]"
     },
     "metadata": {
      "needs_background": "light"
     }
    }
   ],
   "metadata": {}
  },
  {
   "cell_type": "code",
   "execution_count": 116,
   "source": [
    "fig, axs = plt.subplots(figsize=(25,5),nrows=1,ncols=2,constrained_layout=True)\r\n",
    "index_u = data_eval_left['left'].unique()\r\n",
    "for i,k in enumerate(index_u):\r\n",
    "    data_m = data_eval_left[data_eval_left['left'] == k]\r\n",
    "    data_m['last_evaluation'].plot(kind='hist',subplots=True,bins=50,ax=axs[i])\r\n",
    "    if k == 1:\r\n",
    "        axs[i].set_title(k)\r\n",
    "fig.suptitle('Distribution of left(1) aand non-left(0) workers base on last evaluation')\r\n",
    "plt.show()"
   ],
   "outputs": [
    {
     "output_type": "display_data",
     "data": {
      "text/plain": [
       "<Figure size 1800x360 with 2 Axes>"
      ],
      "image/png": "[encoded data removed]"
     },
     "metadata": {
      "needs_background": "light"
     }
    }
   ],
   "metadata": {}
  },
  {
   "cell_type": "markdown",
   "source": [
    "### Worker Left VS number_project"
   ],
   "metadata": {}
  },
  {
   "cell_type": "code",
   "execution_count": 117,
   "source": [
    "data_npr_left = df[['left','number_project']]\r\n",
    "sta = data_npr_left.groupby('left').describe()\r\n",
    "print('Statistic of number projects base on left and non-left workers')\r\n",
    "display(sta)\r\n",
    "sns.boxplot(x='left',y='number_project',data=data_npr_left)\r\n",
    "plt.title('Boxplot number project')\r\n",
    "data_npr_left = data_npr_left.groupby(['left','number_project'])['left'].count()\r\n",
    "index_u = data_npr_left.index.get_level_values(1).unique()\r\n",
    "fig, ax = plt.subplots(figsize=(15,8))\r\n",
    "width = 0.35\r\n",
    "_0 = data_npr_left[0].values.tolist()\r\n",
    "_0.append(0)\r\n",
    "_1 = data_npr_left[1].values.tolist()\r\n",
    "ax.bar(index_u, _0 , width, label='non left workers')\r\n",
    "ax.bar(index_u, _1 , width, bottom=_0 , label='left workers')\r\n",
    "ax.set_ylabel('Number of workers')\r\n",
    "ax.set_xlabel('Number of project')\r\n",
    "ax.legend()\r\n",
    "plt.show()"
   ],
   "outputs": [
    {
     "output_type": "stream",
     "name": "stdout",
     "text": [
      "Statistic of number projects base on left and non-left workers\n"
     ]
    },
    {
     "output_type": "display_data",
     "data": {
      "text/plain": [
       "     number_project                                             \n",
       "              count      mean       std  min  25%  50%  75%  max\n",
       "left                                                            \n",
       "0           11428.0  3.786664  0.979884  2.0  3.0  4.0  4.0  6.0\n",
       "1            3571.0  3.855503  1.818165  2.0  2.0  4.0  6.0  7.0"
      ],
      "text/html": [
       "<div>\n",
       "<style scoped>\n",
       "    .dataframe tbody tr th:only-of-type {\n",
       "        vertical-align: middle;\n",
       "    }\n",
       "\n",
       "    .dataframe tbody tr th {\n",
       "        vertical-align: top;\n",
       "    }\n",
       "\n",
       "    .dataframe thead tr th {\n",
       "        text-align: left;\n",
       "    }\n",
       "\n",
       "    .dataframe thead tr:last-of-type th {\n",
       "        text-align: right;\n",
       "    }\n",
       "</style>\n",
       "<table border=\"1\" class=\"dataframe\">\n",
       "  <thead>\n",
       "    <tr>\n",
       "      <th></th>\n",
       "      <th colspan=\"8\" halign=\"left\">number_project</th>\n",
       "    </tr>\n",
       "    <tr>\n",
       "      <th></th>\n",
       "      <th>count</th>\n",
       "      <th>mean</th>\n",
       "      <th>std</th>\n",
       "      <th>min</th>\n",
       "      <th>25%</th>\n",
       "      <th>50%</th>\n",
       "      <th>75%</th>\n",
       "      <th>max</th>\n",
       "    </tr>\n",
       "    <tr>\n",
       "      <th>left</th>\n",
       "      <th></th>\n",
       "      <th></th>\n",
       "      <th></th>\n",
       "      <th></th>\n",
       "      <th></th>\n",
       "      <th></th>\n",
       "      <th></th>\n",
       "      <th></th>\n",
       "    </tr>\n",
       "  </thead>\n",
       "  <tbody>\n",
       "    <tr>\n",
       "      <th>0</th>\n",
       "      <td>11428.0</td>\n",
       "      <td>3.786664</td>\n",
       "      <td>0.979884</td>\n",
       "      <td>2.0</td>\n",
       "      <td>3.0</td>\n",
       "      <td>4.0</td>\n",
       "      <td>4.0</td>\n",
       "      <td>6.0</td>\n",
       "    </tr>\n",
       "    <tr>\n",
       "      <th>1</th>\n",
       "      <td>3571.0</td>\n",
       "      <td>3.855503</td>\n",
       "      <td>1.818165</td>\n",
       "      <td>2.0</td>\n",
       "      <td>2.0</td>\n",
       "      <td>4.0</td>\n",
       "      <td>6.0</td>\n",
       "      <td>7.0</td>\n",
       "    </tr>\n",
       "  </tbody>\n",
       "</table>\n",
       "</div>"
      ]
     },
     "metadata": {}
    },
    {
     "output_type": "display_data",
     "data": {
      "text/plain": [
       "<Figure size 432x288 with 1 Axes>"
      ],
      "image/png": "[encoded data removed]"
     },
     "metadata": {
      "needs_background": "light"
     }
    },
    {
     "output_type": "display_data",
     "data": {
      "text/plain": [
       "<Figure size 1080x576 with 1 Axes>"
      ],
      "image/png": "[encoded data removed]"
     },
     "metadata": {
      "needs_background": "light"
     }
    }
   ],
   "metadata": {}
  },
  {
   "cell_type": "markdown",
   "source": [
    "### Worker Left VS average_montly_hours"
   ],
   "metadata": {}
  },
  {
   "cell_type": "code",
   "execution_count": 119,
   "source": [
    "data_amh_left = df[['left','average_montly_hours']]\r\n",
    "sta = data_amh_left.groupby('left').describe()\r\n",
    "print('Statistic of average montly hourse base on left and non-left workers')\r\n",
    "display(sta)\r\n",
    "sns.boxplot(x='left',y='average_montly_hours',data=data_amh_left)\r\n",
    "plt.title('Boxplot of average montly hours')\r\n",
    "plt.show()"
   ],
   "outputs": [
    {
     "output_type": "stream",
     "name": "stdout",
     "text": [
      "Statistic of average montly hourse base on left and non-left workers\n"
     ]
    },
    {
     "output_type": "display_data",
     "data": {
      "text/plain": [
       "     average_montly_hours                                                     \\\n",
       "                    count        mean        std    min    25%    50%    75%   \n",
       "left                                                                           \n",
       "0                 11428.0  199.060203  45.682731   96.0  162.0  198.0  238.0   \n",
       "1                  3571.0  207.419210  61.202825  126.0  146.0  224.0  262.0   \n",
       "\n",
       "             \n",
       "        max  \n",
       "left         \n",
       "0     287.0  \n",
       "1     310.0  "
      ],
      "text/html": [
       "<div>\n",
       "<style scoped>\n",
       "    .dataframe tbody tr th:only-of-type {\n",
       "        vertical-align: middle;\n",
       "    }\n",
       "\n",
       "    .dataframe tbody tr th {\n",
       "        vertical-align: top;\n",
       "    }\n",
       "\n",
       "    .dataframe thead tr th {\n",
       "        text-align: left;\n",
       "    }\n",
       "\n",
       "    .dataframe thead tr:last-of-type th {\n",
       "        text-align: right;\n",
       "    }\n",
       "</style>\n",
       "<table border=\"1\" class=\"dataframe\">\n",
       "  <thead>\n",
       "    <tr>\n",
       "      <th></th>\n",
       "      <th colspan=\"8\" halign=\"left\">average_montly_hours</th>\n",
       "    </tr>\n",
       "    <tr>\n",
       "      <th></th>\n",
       "      <th>count</th>\n",
       "      <th>mean</th>\n",
       "      <th>std</th>\n",
       "      <th>min</th>\n",
       "      <th>25%</th>\n",
       "      <th>50%</th>\n",
       "      <th>75%</th>\n",
       "      <th>max</th>\n",
       "    </tr>\n",
       "    <tr>\n",
       "      <th>left</th>\n",
       "      <th></th>\n",
       "      <th></th>\n",
       "      <th></th>\n",
       "      <th></th>\n",
       "      <th></th>\n",
       "      <th></th>\n",
       "      <th></th>\n",
       "      <th></th>\n",
       "    </tr>\n",
       "  </thead>\n",
       "  <tbody>\n",
       "    <tr>\n",
       "      <th>0</th>\n",
       "      <td>11428.0</td>\n",
       "      <td>199.060203</td>\n",
       "      <td>45.682731</td>\n",
       "      <td>96.0</td>\n",
       "      <td>162.0</td>\n",
       "      <td>198.0</td>\n",
       "      <td>238.0</td>\n",
       "      <td>287.0</td>\n",
       "    </tr>\n",
       "    <tr>\n",
       "      <th>1</th>\n",
       "      <td>3571.0</td>\n",
       "      <td>207.419210</td>\n",
       "      <td>61.202825</td>\n",
       "      <td>126.0</td>\n",
       "      <td>146.0</td>\n",
       "      <td>224.0</td>\n",
       "      <td>262.0</td>\n",
       "      <td>310.0</td>\n",
       "    </tr>\n",
       "  </tbody>\n",
       "</table>\n",
       "</div>"
      ]
     },
     "metadata": {}
    },
    {
     "output_type": "display_data",
     "data": {
      "text/plain": [
       "<Figure size 432x288 with 1 Axes>"
      ],
      "image/png": "[encoded data removed]"
     },
     "metadata": {
      "needs_background": "light"
     }
    }
   ],
   "metadata": {}
  },
  {
   "cell_type": "markdown",
   "source": [
    "### Worker Left VS time_spend_company"
   ],
   "metadata": {}
  },
  {
   "cell_type": "code",
   "execution_count": 121,
   "source": [
    "data_tsc_left = df[['left','time_spend_company']]\r\n",
    "sta = data_tsc_left.groupby('left').describe()\r\n",
    "print('Statistic of time spend company basae on left and non-left workers')\r\n",
    "display(sta)\r\n",
    "sns.boxplot(x='left',y='time_spend_company',data=data_tsc_left)\r\n",
    "plt.title('Boxplot of time spend company')\r\n",
    "data_tsc_left = data_tsc_left.groupby(['left','time_spend_company'])['left'].count()\r\n",
    "index_u = data_tsc_left.index.get_level_values(1).unique()\r\n",
    "fig, ax = plt.subplots(figsize=(15,8))\r\n",
    "width = 0.35\r\n",
    "_0 = data_tsc_left[0].values.tolist()\r\n",
    "_1 = data_tsc_left[1].values.tolist()\r\n",
    "for i in range(len(_1),len(_0)):\r\n",
    "    _1.append(0)\r\n",
    "ax.bar(index_u, _0 , width, label='non left workers')\r\n",
    "ax.bar(index_u, _1 , width, bottom=_0 , label='left workers')\r\n",
    "ax.set_ylabel('Number of workers')\r\n",
    "ax.set_xlabel('Time Spend company')\r\n",
    "ax.legend()\r\n",
    "plt.show()"
   ],
   "outputs": [
    {
     "output_type": "stream",
     "name": "stdout",
     "text": [
      "Statistic of time spend company basae on left and non-left workers\n"
     ]
    },
    {
     "output_type": "display_data",
     "data": {
      "text/plain": [
       "     time_spend_company                                              \n",
       "                  count      mean       std  min  25%  50%  75%   max\n",
       "left                                                                 \n",
       "0               11428.0  3.380032  1.562348  2.0  2.0  3.0  4.0  10.0\n",
       "1                3571.0  3.876505  0.977698  2.0  3.0  4.0  5.0   6.0"
      ],
      "text/html": [
       "<div>\n",
       "<style scoped>\n",
       "    .dataframe tbody tr th:only-of-type {\n",
       "        vertical-align: middle;\n",
       "    }\n",
       "\n",
       "    .dataframe tbody tr th {\n",
       "        vertical-align: top;\n",
       "    }\n",
       "\n",
       "    .dataframe thead tr th {\n",
       "        text-align: left;\n",
       "    }\n",
       "\n",
       "    .dataframe thead tr:last-of-type th {\n",
       "        text-align: right;\n",
       "    }\n",
       "</style>\n",
       "<table border=\"1\" class=\"dataframe\">\n",
       "  <thead>\n",
       "    <tr>\n",
       "      <th></th>\n",
       "      <th colspan=\"8\" halign=\"left\">time_spend_company</th>\n",
       "    </tr>\n",
       "    <tr>\n",
       "      <th></th>\n",
       "      <th>count</th>\n",
       "      <th>mean</th>\n",
       "      <th>std</th>\n",
       "      <th>min</th>\n",
       "      <th>25%</th>\n",
       "      <th>50%</th>\n",
       "      <th>75%</th>\n",
       "      <th>max</th>\n",
       "    </tr>\n",
       "    <tr>\n",
       "      <th>left</th>\n",
       "      <th></th>\n",
       "      <th></th>\n",
       "      <th></th>\n",
       "      <th></th>\n",
       "      <th></th>\n",
       "      <th></th>\n",
       "      <th></th>\n",
       "      <th></th>\n",
       "    </tr>\n",
       "  </thead>\n",
       "  <tbody>\n",
       "    <tr>\n",
       "      <th>0</th>\n",
       "      <td>11428.0</td>\n",
       "      <td>3.380032</td>\n",
       "      <td>1.562348</td>\n",
       "      <td>2.0</td>\n",
       "      <td>2.0</td>\n",
       "      <td>3.0</td>\n",
       "      <td>4.0</td>\n",
       "      <td>10.0</td>\n",
       "    </tr>\n",
       "    <tr>\n",
       "      <th>1</th>\n",
       "      <td>3571.0</td>\n",
       "      <td>3.876505</td>\n",
       "      <td>0.977698</td>\n",
       "      <td>2.0</td>\n",
       "      <td>3.0</td>\n",
       "      <td>4.0</td>\n",
       "      <td>5.0</td>\n",
       "      <td>6.0</td>\n",
       "    </tr>\n",
       "  </tbody>\n",
       "</table>\n",
       "</div>"
      ]
     },
     "metadata": {}
    },
    {
     "output_type": "display_data",
     "data": {
      "text/plain": [
       "<Figure size 432x288 with 1 Axes>"
      ],
      "image/png": "[encoded data removed]"
     },
     "metadata": {
      "needs_background": "light"
     }
    },
    {
     "output_type": "display_data",
     "data": {
      "text/plain": [
       "<Figure size 1080x576 with 1 Axes>"
      ],
      "image/png": "[encoded data removed]"
     },
     "metadata": {
      "needs_background": "light"
     }
    }
   ],
   "metadata": {}
  },
  {
   "cell_type": "markdown",
   "source": [
    "## Worker Left VS Categorical data\r\n",
    "### Worker Left VS Work_accident"
   ],
   "metadata": {}
  },
  {
   "cell_type": "code",
   "execution_count": 125,
   "source": [
    "data_wc_left = pd.crosstab(df['Work_accident'],df['left'])\r\n",
    "data_wc_left.plot(kind='bar',rot=0,figsize=(10,8),title='The number of left and non-left workers that get accident in work')\r\n",
    "plt.show()"
   ],
   "outputs": [
    {
     "output_type": "display_data",
     "data": {
      "text/plain": [
       "<Figure size 720x576 with 1 Axes>"
      ],
      "image/png": "[encoded data removed]"
     },
     "metadata": {
      "needs_background": "light"
     }
    }
   ],
   "metadata": {}
  },
  {
   "cell_type": "markdown",
   "source": [
    "### Work Left VS promotion_last_5years"
   ],
   "metadata": {}
  },
  {
   "cell_type": "code",
   "execution_count": 126,
   "source": [
    "data_p5y_left = pd.crosstab(df['promotion_last_5years'],df['left'])\r\n",
    "data_p5y_left.plot(kind='bar',rot=0,figsize=(10,8),title='The number of left and non-left workers that promote in work in last 5 years')\r\n",
    "plt.show()"
   ],
   "outputs": [
    {
     "output_type": "display_data",
     "data": {
      "text/plain": [
       "<Figure size 720x576 with 1 Axes>"
      ],
      "image/png": "[encoded data removed]"
     },
     "metadata": {
      "needs_background": "light"
     }
    }
   ],
   "metadata": {}
  },
  {
   "cell_type": "markdown",
   "source": [
    "### Worker Left VS Deparment"
   ],
   "metadata": {}
  },
  {
   "cell_type": "code",
   "execution_count": 130,
   "source": [
    "data_d_left = pd.crosstab(df['Department'],df['left'])\r\n",
    "data_d_left.plot(kind='bar',rot=0,figsize=(15,8),title='The number of left and non-left workers base on department')\r\n",
    "plt.show()"
   ],
   "outputs": [
    {
     "output_type": "display_data",
     "data": {
      "text/plain": [
       "<Figure size 1080x576 with 1 Axes>"
      ],
      "image/png": "[encoded data removed]"
     },
     "metadata": {
      "needs_background": "light"
     }
    }
   ],
   "metadata": {}
  },
  {
   "cell_type": "markdown",
   "source": [
    "### Workers Left VS Salary"
   ],
   "metadata": {}
  },
  {
   "cell_type": "code",
   "execution_count": 134,
   "source": [
    "data_s_left = pd.crosstab(df['salary'],df['left'])\r\n",
    "data_s_left.plot(kind='bar',rot=0,figsize=(10,8),title='The number of left and non-left workers that get salary base on degree (low, medium, hight)')\r\n",
    "plt.show()"
   ],
   "outputs": [
    {
     "output_type": "display_data",
     "data": {
      "text/plain": [
       "<Figure size 720x576 with 1 Axes>"
      ],
      "image/png": "[encoded data removed]"
     },
     "metadata": {
      "needs_background": "light"
     }
    }
   ],
   "metadata": {}
  },
  {
   "cell_type": "markdown",
   "source": [
    "# MODELLING"
   ],
   "metadata": {}
  },
  {
   "cell_type": "markdown",
   "source": [
    "## Correlation heatmap"
   ],
   "metadata": {}
  },
  {
   "cell_type": "code",
   "execution_count": 135,
   "source": [
    "df_corr = df.corr()\r\n",
    "mask = np.array(df_corr)\r\n",
    "mask[np.tril_indices_from(mask)] = False\r\n",
    "fig,ax = plt.subplots(figsize=(12,10))\r\n",
    "sns.heatmap(df_corr,mask=mask, annot=True, cbar=True, vmax=0.8, vmin=-0.8)\r\n",
    "plt.show()"
   ],
   "outputs": [
    {
     "output_type": "display_data",
     "data": {
      "text/plain": [
       "<Figure size 864x720 with 2 Axes>"
      ],
      "image/png": "[encoded data removed]"
     },
     "metadata": {
      "needs_background": "light"
     }
    }
   ],
   "metadata": {}
  },
  {
   "cell_type": "markdown",
   "source": [
    "## Feature Engineering"
   ],
   "metadata": {}
  },
  {
   "cell_type": "code",
   "execution_count": 8,
   "source": [
    "df = pd.get_dummies(df,columns=['salary'])\r\n",
    "df = pd.get_dummies(df,columns=['Department'])"
   ],
   "outputs": [],
   "metadata": {}
  },
  {
   "cell_type": "code",
   "execution_count": 9,
   "source": [
    "df.info()"
   ],
   "outputs": [
    {
     "output_type": "stream",
     "name": "stdout",
     "text": [
      "<class 'pandas.core.frame.DataFrame'>\n",
      "RangeIndex: 14999 entries, 0 to 14998\n",
      "Data columns (total 21 columns):\n",
      " #   Column                  Non-Null Count  Dtype  \n",
      "---  ------                  --------------  -----  \n",
      " 0   satisfaction_level      14999 non-null  float64\n",
      " 1   last_evaluation         14999 non-null  float64\n",
      " 2   number_project          14999 non-null  int64  \n",
      " 3   average_montly_hours    14999 non-null  int64  \n",
      " 4   time_spend_company      14999 non-null  int64  \n",
      " 5   Work_accident           14999 non-null  int64  \n",
      " 6   left                    14999 non-null  int64  \n",
      " 7   promotion_last_5years   14999 non-null  int64  \n",
      " 8   salary_high             14999 non-null  uint8  \n",
      " 9   salary_low              14999 non-null  uint8  \n",
      " 10  salary_medium           14999 non-null  uint8  \n",
      " 11  Department_IT           14999 non-null  uint8  \n",
      " 12  Department_RandD        14999 non-null  uint8  \n",
      " 13  Department_accounting   14999 non-null  uint8  \n",
      " 14  Department_hr           14999 non-null  uint8  \n",
      " 15  Department_management   14999 non-null  uint8  \n",
      " 16  Department_marketing    14999 non-null  uint8  \n",
      " 17  Department_product_mng  14999 non-null  uint8  \n",
      " 18  Department_sales        14999 non-null  uint8  \n",
      " 19  Department_support      14999 non-null  uint8  \n",
      " 20  Department_technical    14999 non-null  uint8  \n",
      "dtypes: float64(2), int64(6), uint8(13)\n",
      "memory usage: 1.1 MB\n"
     ]
    }
   ],
   "metadata": {}
  },
  {
   "cell_type": "markdown",
   "source": [
    "## Classification Modelling"
   ],
   "metadata": {}
  },
  {
   "cell_type": "code",
   "execution_count": 4,
   "source": [
    "from sklearn.model_selection import train_test_split\r\n",
    "from sklearn.model_selection import KFold\r\n",
    "from sklearn.model_selection import cross_val_score\r\n",
    "from sklearn.model_selection import GridSearchCV\r\n",
    "\r\n",
    "from sklearn.preprocessing import StandardScaler\r\n",
    "\r\n",
    "from sklearn.naive_bayes import GaussianNB\r\n",
    "from sklearn.tree import DecisionTreeClassifier\r\n",
    "from sklearn.svm import SVC\r\n",
    "from sklearn.linear_model import LogisticRegression\r\n",
    "from sklearn.neighbors import KNeighborsClassifier\r\n",
    "\r\n",
    "from sklearn.ensemble import RandomForestClassifier\r\n",
    "from sklearn.ensemble import AdaBoostClassifier\r\n",
    "from sklearn.ensemble import GradientBoostingClassifier\r\n",
    "\r\n",
    "from sklearn.metrics import accuracy_score\r\n",
    "from sklearn.metrics import precision_score\r\n",
    "from sklearn.metrics import recall_score\r\n",
    "from sklearn.metrics import f1_score\r\n",
    "from sklearn.metrics import roc_auc_score\r\n",
    "from sklearn.metrics import confusion_matrix\r\n",
    "from sklearn.metrics import plot_confusion_matrix\r\n",
    "from sklearn.metrics import classification_report\r\n",
    "from sklearn.metrics import roc_curve, auc\r\n",
    "\r\n",
    "import warnings\r\n",
    "warnings.filterwarnings(\"ignore\")"
   ],
   "outputs": [],
   "metadata": {}
  },
  {
   "cell_type": "markdown",
   "source": [
    "### Data and Fuction Definition"
   ],
   "metadata": {}
  },
  {
   "cell_type": "code",
   "execution_count": 10,
   "source": [
    "features = df.drop('left',axis=1)\r\n",
    "target = df['left']\r\n",
    "def get_X_y(features,target):\r\n",
    "    sc = StandardScaler()\r\n",
    "    #features = sc.fit_transform(features)\r\n",
    "    X_train, X_test, y_train, y_test = train_test_split(features,target,test_size=0.2)\r\n",
    "    return X_train, X_test, y_train, y_test"
   ],
   "outputs": [],
   "metadata": {}
  },
  {
   "cell_type": "code",
   "execution_count": 11,
   "source": [
    "X_train, X_test, y_train, y_test = get_X_y(features,target)"
   ],
   "outputs": [],
   "metadata": {}
  },
  {
   "cell_type": "code",
   "execution_count": 12,
   "source": [
    "print('Training dataset size: ')\r\n",
    "X_train.shape,y_train.shape"
   ],
   "outputs": [
    {
     "output_type": "stream",
     "name": "stdout",
     "text": [
      "Training dataset size: \n"
     ]
    },
    {
     "output_type": "execute_result",
     "data": {
      "text/plain": [
       "((11999, 20), (11999,))"
      ]
     },
     "metadata": {},
     "execution_count": 12
    }
   ],
   "metadata": {}
  },
  {
   "cell_type": "code",
   "execution_count": 13,
   "source": [
    "print('Testing dataset size: ')\r\n",
    "X_test.shape,y_test.shape"
   ],
   "outputs": [
    {
     "output_type": "stream",
     "name": "stdout",
     "text": [
      "Testing dataset size: \n"
     ]
    },
    {
     "output_type": "execute_result",
     "data": {
      "text/plain": [
       "((3000, 20), (3000,))"
      ]
     },
     "metadata": {},
     "execution_count": 13
    }
   ],
   "metadata": {}
  },
  {
   "cell_type": "markdown",
   "source": [
    "### Features Scaling"
   ],
   "metadata": {}
  },
  {
   "cell_type": "code",
   "execution_count": 14,
   "source": [
    "scaler = StandardScaler()\r\n",
    "X_train_scale = X_train.copy()\r\n",
    "X_test_scale = X_test.copy()\r\n",
    "fit_features = ['number_project','average_montly_hours','time_spend_company']\r\n",
    "features_fit = X_train_scale[fit_features]\r\n",
    "scaler_fit_feature = scaler.fit(features_fit)\r\n",
    "X_train_scale[fit_features] = scaler_fit_feature.transform(X_train_scale[fit_features])\r\n",
    "X_test_scale[fit_features] = scaler_fit_feature.transform(X_test_scale[fit_features])"
   ],
   "outputs": [],
   "metadata": {}
  },
  {
   "cell_type": "markdown",
   "source": [
    "### Helper functions"
   ],
   "metadata": {}
  },
  {
   "cell_type": "code",
   "execution_count": 15,
   "source": [
    "summary_col = ['Classifier','Accuracy','Precision','Recall','F1 Score','ROC_AUC']\r\n",
    "summary = pd.DataFrame(columns=summary_col)\r\n",
    "def summary_score(model_name,y_test,y_pred):\r\n",
    "    acc = accuracy_score(y_test,y_pred)\r\n",
    "    #num_acc = accuracy_score(y_test,y_pred,normalize=False)\r\n",
    "\r\n",
    "    prec = precision_score(y_test,y_pred)\r\n",
    "    recall = recall_score(y_test,y_pred)\r\n",
    "    f1 = f1_score(y_test,y_pred)\r\n",
    "    roc_score = roc_auc_score(y_test,y_pred)\r\n",
    "    #print('test data count',len(y_test))\r\n",
    "    print('Model: ',model_name)\r\n",
    "    print('--Result in test data set--')\r\n",
    "    print('Accuracy score: ', acc)\r\n",
    "    print('Precision score', prec)\r\n",
    "    print('Recall score: ',recall)\r\n",
    "    print('F1 score: ', f1)\r\n",
    "    print('ROC_AUC: ', roc_score)\r\n",
    "    #print('acc_count',num_acc)\r\n",
    "    sum_entry = pd.DataFrame([[model_name,acc*100,prec*100,recall*100,f1*100,roc_score*100]],columns=summary_col)\r\n",
    "    return sum_entry "
   ],
   "outputs": [],
   "metadata": {}
  },
  {
   "cell_type": "code",
   "execution_count": 16,
   "source": [
    "def get_summary_parameter(grid_search, hyperparam):\r\n",
    "    nof_param = 1\r\n",
    "    for k in hyperparam.keys():\r\n",
    "        nof_param = nof_param*len(hyperparam[k])\r\n",
    "    for i in range(nof_param):\r\n",
    "        print('Parameter: ',grid_search.cv_results_['params'][i])\r\n",
    "        print('Mean Test score: ',grid_search.cv_results_['mean_test_score'][i])\r\n",
    "        print('Rank: ',grid_search.cv_results_['rank_test_score'][i])"
   ],
   "outputs": [],
   "metadata": {}
  },
  {
   "cell_type": "markdown",
   "source": [
    "### **Logistic Regression**"
   ],
   "metadata": {}
  },
  {
   "cell_type": "code",
   "execution_count": 17,
   "source": [
    "logistic_model = LogisticRegression()\r\n",
    "logistic_model.fit(X_train,y_train)\r\n",
    "y_pred = logistic_model.predict(X_test)\r\n",
    "name = logistic_model.__class__.__name__\r\n",
    "summary = summary.append(summary_score(name,y_test,y_pred))"
   ],
   "outputs": [
    {
     "output_type": "stream",
     "name": "stdout",
     "text": [
      "Model:  LogisticRegression\n",
      "--Result in test data set--\n",
      "Accuracy score:  0.7863333333333333\n",
      "Precision score 0.5697674418604651\n",
      "Recall score:  0.34950071326676174\n",
      "F1 score:  0.4332449160035367\n",
      "ROC_AUC:  0.6345154719008885\n"
     ]
    }
   ],
   "metadata": {}
  },
  {
   "cell_type": "markdown",
   "source": [
    "### Tuning parameters"
   ],
   "metadata": {}
  },
  {
   "cell_type": "code",
   "execution_count": 18,
   "source": [
    "hyperparam = {\r\n",
    "    'C' : [0.01, 0.1, 1, 10, 100],\r\n",
    "    'penalty' : ['l1','l2']\r\n",
    "}\r\n",
    "\r\n",
    "log_par_tune = GridSearchCV(LogisticRegression(class_weight = \"balanced\"),hyperparam,scoring='roc_auc')\r\n",
    "log_par_tune.fit(X_train,y_train)\r\n",
    "print('--Summary parameter tuning--')\r\n",
    "get_summary_parameter(log_par_tune, hyperparam)\r\n",
    "print()\r\n",
    "print('Best parameters set: ')\r\n",
    "print(log_par_tune.best_params_)\r\n",
    "y_pred = log_par_tune.predict(X_test)\r\n",
    "name = logistic_model.__class__.__name__\r\n",
    "print()\r\n",
    "summary = summary.append(summary_score(str(name + '_param'),y_test,y_pred))"
   ],
   "outputs": [
    {
     "output_type": "stream",
     "name": "stdout",
     "text": [
      "--Summary parameter tuning--\n",
      "Parameter:  {'C': 0.01, 'penalty': 'l1'}\n",
      "Mean Test score:  nan\n",
      "Rank:  6\n",
      "Parameter:  {'C': 0.01, 'penalty': 'l2'}\n",
      "Mean Test score:  0.823411849680235\n",
      "Rank:  5\n",
      "Parameter:  {'C': 0.1, 'penalty': 'l1'}\n",
      "Mean Test score:  nan\n",
      "Rank:  7\n",
      "Parameter:  {'C': 0.1, 'penalty': 'l2'}\n",
      "Mean Test score:  0.8260286300956862\n",
      "Rank:  3\n",
      "Parameter:  {'C': 1, 'penalty': 'l1'}\n",
      "Mean Test score:  nan\n",
      "Rank:  8\n",
      "Parameter:  {'C': 1, 'penalty': 'l2'}\n",
      "Mean Test score:  0.8254488741607119\n",
      "Rank:  4\n",
      "Parameter:  {'C': 10, 'penalty': 'l1'}\n",
      "Mean Test score:  nan\n",
      "Rank:  9\n",
      "Parameter:  {'C': 10, 'penalty': 'l2'}\n",
      "Mean Test score:  0.8264626727476511\n",
      "Rank:  1\n",
      "Parameter:  {'C': 100, 'penalty': 'l1'}\n",
      "Mean Test score:  nan\n",
      "Rank:  10\n",
      "Parameter:  {'C': 100, 'penalty': 'l2'}\n",
      "Mean Test score:  0.8263260104694293\n",
      "Rank:  2\n",
      "\n",
      "Best parameters set: \n",
      "{'C': 10, 'penalty': 'l2'}\n",
      "\n",
      "Model:  LogisticRegression_param\n",
      "--Result in test data set--\n",
      "Accuracy score:  0.7606666666666667\n",
      "Precision score 0.49251101321585905\n",
      "Recall score:  0.797432239657632\n",
      "F1 score:  0.6089324618736384\n",
      "ROC_AUC:  0.7734442624995425\n"
     ]
    }
   ],
   "metadata": {}
  },
  {
   "cell_type": "markdown",
   "source": [
    "### Logistic with Scaling numeric features"
   ],
   "metadata": {}
  },
  {
   "cell_type": "code",
   "execution_count": 19,
   "source": [
    "logistic_model = LogisticRegression()\r\n",
    "logistic_model.fit(X_train_scale,y_train)\r\n",
    "y_pred = logistic_model.predict(X_test_scale)\r\n",
    "name = logistic_model.__class__.__name__\r\n",
    "summary = summary.append(summary_score(str(name + '_scale'),y_test,y_pred))"
   ],
   "outputs": [
    {
     "output_type": "stream",
     "name": "stdout",
     "text": [
      "Model:  LogisticRegression_scale\n",
      "--Result in test data set--\n",
      "Accuracy score:  0.785\n",
      "Precision score 0.5666666666666667\n",
      "Recall score:  0.33951497860199714\n",
      "F1 score:  0.42462087421944694\n",
      "ROC_AUC:  0.6301750621587627\n"
     ]
    }
   ],
   "metadata": {}
  },
  {
   "cell_type": "markdown",
   "source": [
    "### ROC curve"
   ],
   "metadata": {}
  },
  {
   "cell_type": "code",
   "execution_count": 20,
   "source": [
    "logistic_model = LogisticRegression()\r\n",
    "logistic_model.fit(X_train,y_train)\r\n",
    "y_prob = logistic_model.predict_proba(X_test)\r\n",
    "fpr, tpr, thresholds = roc_curve(y_test.values, y_prob[:,1], pos_label = 1)\r\n",
    "J = tpr - fpr\r\n",
    "ix = np.argmax(J)\r\n",
    "print('Best threshold: ',(thresholds[ix]))"
   ],
   "outputs": [
    {
     "output_type": "stream",
     "name": "stdout",
     "text": [
      "Best threshold:  0.2749792301443071\n"
     ]
    }
   ],
   "metadata": {}
  },
  {
   "cell_type": "code",
   "execution_count": 21,
   "source": [
    "import matplotlib.pyplot as plt\r\n",
    "plt.figure()\r\n",
    "lw = 2\r\n",
    "plt.plot(fpr, tpr, color='darkorange',\r\n",
    "         lw=lw, label='ROC curve (area = %0.2f)' % auc(fpr, tpr))\r\n",
    "plt.plot([0, 1], [0, 1], color='navy', lw=lw, linestyle='--')\r\n",
    "plt.scatter(fpr[ix], tpr[ix], marker='o', color='black', label='Best')\r\n",
    "plt.xlim([0.0, 1.0])\r\n",
    "plt.ylim([0.0, 1.05])\r\n",
    "plt.xlabel('False Positive Rate')\r\n",
    "plt.ylabel('True Positive Rate')\r\n",
    "plt.title('Receiver operating characteristic example')\r\n",
    "plt.legend(loc=\"lower right\")\r\n",
    "plt.show()"
   ],
   "outputs": [
    {
     "output_type": "display_data",
     "data": {
      "text/plain": [
       "<Figure size 432x288 with 1 Axes>"
      ],
      "image/png": "[encoded data removed]"
     },
     "metadata": {
      "needs_background": "light"
     }
    }
   ],
   "metadata": {}
  },
  {
   "cell_type": "code",
   "execution_count": 22,
   "source": [
    "def to_labels(y_prob, threshold):\r\n",
    "    return (y_prob >= threshold).astype('int')\r\n",
    "y_pred = to_labels(y_prob[:,1],thresholds[ix])\r\n",
    "acc = accuracy_score(y_test,y_pred)\r\n",
    "prec = precision_score(y_test,y_pred)\r\n",
    "recall = recall_score(y_test,y_pred)\r\n",
    "f1 = f1_score(y_test,y_pred)\r\n",
    "roc_score = roc_auc_score(y_test,y_pred)\r\n",
    "print('Model: ',logistic_model.__class__.__name__)\r\n",
    "print('--Result in test data set after chose threshold--')\r\n",
    "print('Accuracy score: ', acc)\r\n",
    "print('Precision score', prec)\r\n",
    "print('Recall score: ',recall)\r\n",
    "print('F1 score: ', f1)\r\n",
    "print('ROC_AUC: ', roc_score)\r\n",
    "print('Confusion matrix: ')\r\n",
    "pd.crosstab(y_test,y_pred)"
   ],
   "outputs": [
    {
     "output_type": "stream",
     "name": "stdout",
     "text": [
      "Model:  LogisticRegression\n",
      "--Result in test data set after chose threshold--\n",
      "Accuracy score:  0.7786666666666666\n",
      "Precision score 0.518555667001003\n",
      "Recall score:  0.7375178316690443\n",
      "F1 score:  0.6089517078916372\n",
      "ROC_AUC:  0.7643657013934608\n",
      "Confusion matrix: \n"
     ]
    },
    {
     "output_type": "execute_result",
     "data": {
      "text/plain": [
       "col_0     0    1\n",
       "left            \n",
       "0      1819  480\n",
       "1       184  517"
      ],
      "text/html": [
       "<div>\n",
       "<style scoped>\n",
       "    .dataframe tbody tr th:only-of-type {\n",
       "        vertical-align: middle;\n",
       "    }\n",
       "\n",
       "    .dataframe tbody tr th {\n",
       "        vertical-align: top;\n",
       "    }\n",
       "\n",
       "    .dataframe thead th {\n",
       "        text-align: right;\n",
       "    }\n",
       "</style>\n",
       "<table border=\"1\" class=\"dataframe\">\n",
       "  <thead>\n",
       "    <tr style=\"text-align: right;\">\n",
       "      <th>col_0</th>\n",
       "      <th>0</th>\n",
       "      <th>1</th>\n",
       "    </tr>\n",
       "    <tr>\n",
       "      <th>left</th>\n",
       "      <th></th>\n",
       "      <th></th>\n",
       "    </tr>\n",
       "  </thead>\n",
       "  <tbody>\n",
       "    <tr>\n",
       "      <th>0</th>\n",
       "      <td>1819</td>\n",
       "      <td>480</td>\n",
       "    </tr>\n",
       "    <tr>\n",
       "      <th>1</th>\n",
       "      <td>184</td>\n",
       "      <td>517</td>\n",
       "    </tr>\n",
       "  </tbody>\n",
       "</table>\n",
       "</div>"
      ]
     },
     "metadata": {},
     "execution_count": 22
    }
   ],
   "metadata": {}
  },
  {
   "cell_type": "code",
   "execution_count": 23,
   "source": [
    "summary"
   ],
   "outputs": [
    {
     "output_type": "execute_result",
     "data": {
      "text/plain": [
       "                 Classifier   Accuracy  Precision     Recall   F1 Score  \\\n",
       "0        LogisticRegression  78.633333  56.976744  34.950071  43.324492   \n",
       "0  LogisticRegression_param  76.066667  49.251101  79.743224  60.893246   \n",
       "0  LogisticRegression_scale  78.500000  56.666667  33.951498  42.462087   \n",
       "\n",
       "     ROC_AUC  \n",
       "0  63.451547  \n",
       "0  77.344426  \n",
       "0  63.017506  "
      ],
      "text/html": [
       "<div>\n",
       "<style scoped>\n",
       "    .dataframe tbody tr th:only-of-type {\n",
       "        vertical-align: middle;\n",
       "    }\n",
       "\n",
       "    .dataframe tbody tr th {\n",
       "        vertical-align: top;\n",
       "    }\n",
       "\n",
       "    .dataframe thead th {\n",
       "        text-align: right;\n",
       "    }\n",
       "</style>\n",
       "<table border=\"1\" class=\"dataframe\">\n",
       "  <thead>\n",
       "    <tr style=\"text-align: right;\">\n",
       "      <th></th>\n",
       "      <th>Classifier</th>\n",
       "      <th>Accuracy</th>\n",
       "      <th>Precision</th>\n",
       "      <th>Recall</th>\n",
       "      <th>F1 Score</th>\n",
       "      <th>ROC_AUC</th>\n",
       "    </tr>\n",
       "  </thead>\n",
       "  <tbody>\n",
       "    <tr>\n",
       "      <th>0</th>\n",
       "      <td>LogisticRegression</td>\n",
       "      <td>78.633333</td>\n",
       "      <td>56.976744</td>\n",
       "      <td>34.950071</td>\n",
       "      <td>43.324492</td>\n",
       "      <td>63.451547</td>\n",
       "    </tr>\n",
       "    <tr>\n",
       "      <th>0</th>\n",
       "      <td>LogisticRegression_param</td>\n",
       "      <td>76.066667</td>\n",
       "      <td>49.251101</td>\n",
       "      <td>79.743224</td>\n",
       "      <td>60.893246</td>\n",
       "      <td>77.344426</td>\n",
       "    </tr>\n",
       "    <tr>\n",
       "      <th>0</th>\n",
       "      <td>LogisticRegression_scale</td>\n",
       "      <td>78.500000</td>\n",
       "      <td>56.666667</td>\n",
       "      <td>33.951498</td>\n",
       "      <td>42.462087</td>\n",
       "      <td>63.017506</td>\n",
       "    </tr>\n",
       "  </tbody>\n",
       "</table>\n",
       "</div>"
      ]
     },
     "metadata": {},
     "execution_count": 23
    }
   ],
   "metadata": {}
  },
  {
   "cell_type": "markdown",
   "source": [
    "### **Naive_bayes**"
   ],
   "metadata": {}
  },
  {
   "cell_type": "code",
   "execution_count": 24,
   "source": [
    "naive_bayes_model = GaussianNB().fit(X_train,y_train)\r\n",
    "y_pred = naive_bayes_model.predict(X_test)\r\n",
    "name = naive_bayes_model.__class__.__name__\r\n",
    "summary = summary.append(summary_score(name,y_test,y_pred))"
   ],
   "outputs": [
    {
     "output_type": "stream",
     "name": "stdout",
     "text": [
      "Model:  GaussianNB\n",
      "--Result in test data set--\n",
      "Accuracy score:  0.6583333333333333\n",
      "Precision score 0.39054054054054055\n",
      "Recall score:  0.8245363766048502\n",
      "F1 score:  0.5300320953690967\n",
      "ROC_AUC:  0.7160959394985973\n"
     ]
    }
   ],
   "metadata": {}
  },
  {
   "cell_type": "code",
   "execution_count": 25,
   "source": [
    "summary"
   ],
   "outputs": [
    {
     "output_type": "execute_result",
     "data": {
      "text/plain": [
       "                 Classifier   Accuracy  Precision     Recall   F1 Score  \\\n",
       "0        LogisticRegression  78.633333  56.976744  34.950071  43.324492   \n",
       "0  LogisticRegression_param  76.066667  49.251101  79.743224  60.893246   \n",
       "0  LogisticRegression_scale  78.500000  56.666667  33.951498  42.462087   \n",
       "0                GaussianNB  65.833333  39.054054  82.453638  53.003210   \n",
       "\n",
       "     ROC_AUC  \n",
       "0  63.451547  \n",
       "0  77.344426  \n",
       "0  63.017506  \n",
       "0  71.609594  "
      ],
      "text/html": [
       "<div>\n",
       "<style scoped>\n",
       "    .dataframe tbody tr th:only-of-type {\n",
       "        vertical-align: middle;\n",
       "    }\n",
       "\n",
       "    .dataframe tbody tr th {\n",
       "        vertical-align: top;\n",
       "    }\n",
       "\n",
       "    .dataframe thead th {\n",
       "        text-align: right;\n",
       "    }\n",
       "</style>\n",
       "<table border=\"1\" class=\"dataframe\">\n",
       "  <thead>\n",
       "    <tr style=\"text-align: right;\">\n",
       "      <th></th>\n",
       "      <th>Classifier</th>\n",
       "      <th>Accuracy</th>\n",
       "      <th>Precision</th>\n",
       "      <th>Recall</th>\n",
       "      <th>F1 Score</th>\n",
       "      <th>ROC_AUC</th>\n",
       "    </tr>\n",
       "  </thead>\n",
       "  <tbody>\n",
       "    <tr>\n",
       "      <th>0</th>\n",
       "      <td>LogisticRegression</td>\n",
       "      <td>78.633333</td>\n",
       "      <td>56.976744</td>\n",
       "      <td>34.950071</td>\n",
       "      <td>43.324492</td>\n",
       "      <td>63.451547</td>\n",
       "    </tr>\n",
       "    <tr>\n",
       "      <th>0</th>\n",
       "      <td>LogisticRegression_param</td>\n",
       "      <td>76.066667</td>\n",
       "      <td>49.251101</td>\n",
       "      <td>79.743224</td>\n",
       "      <td>60.893246</td>\n",
       "      <td>77.344426</td>\n",
       "    </tr>\n",
       "    <tr>\n",
       "      <th>0</th>\n",
       "      <td>LogisticRegression_scale</td>\n",
       "      <td>78.500000</td>\n",
       "      <td>56.666667</td>\n",
       "      <td>33.951498</td>\n",
       "      <td>42.462087</td>\n",
       "      <td>63.017506</td>\n",
       "    </tr>\n",
       "    <tr>\n",
       "      <th>0</th>\n",
       "      <td>GaussianNB</td>\n",
       "      <td>65.833333</td>\n",
       "      <td>39.054054</td>\n",
       "      <td>82.453638</td>\n",
       "      <td>53.003210</td>\n",
       "      <td>71.609594</td>\n",
       "    </tr>\n",
       "  </tbody>\n",
       "</table>\n",
       "</div>"
      ]
     },
     "metadata": {},
     "execution_count": 25
    }
   ],
   "metadata": {}
  },
  {
   "cell_type": "markdown",
   "source": [
    "### **DecisionTreeClassifier**"
   ],
   "metadata": {}
  },
  {
   "cell_type": "code",
   "execution_count": 26,
   "source": [
    "dt_model = DecisionTreeClassifier().fit(X_train,y_train)\r\n",
    "y_pred = dt_model.predict(X_test)\r\n",
    "name = dt_model.__class__.__name__\r\n",
    "summary = summary.append(summary_score(name,y_test,y_pred))"
   ],
   "outputs": [
    {
     "output_type": "stream",
     "name": "stdout",
     "text": [
      "Model:  DecisionTreeClassifier\n",
      "--Result in test data set--\n",
      "Accuracy score:  0.9766666666666667\n",
      "Precision score 0.9269282814614344\n",
      "Recall score:  0.9771754636233951\n",
      "F1 score:  0.951388888888889\n",
      "ROC_AUC:  0.9768434951870782\n"
     ]
    }
   ],
   "metadata": {}
  },
  {
   "cell_type": "code",
   "execution_count": 27,
   "source": [
    "plot_confusion_matrix(dt_model,X_test,y_test,\r\n",
    "                            display_labels=['non letf','left'])"
   ],
   "outputs": [
    {
     "output_type": "execute_result",
     "data": {
      "text/plain": [
       "<sklearn.metrics._plot.confusion_matrix.ConfusionMatrixDisplay at 0x1c5d3cee250>"
      ]
     },
     "metadata": {},
     "execution_count": 27
    },
    {
     "output_type": "display_data",
     "data": {
      "text/plain": [
       "<Figure size 432x288 with 2 Axes>"
      ],
      "image/png": "[encoded data removed]"
     },
     "metadata": {
      "needs_background": "light"
     }
    }
   ],
   "metadata": {}
  },
  {
   "cell_type": "code",
   "execution_count": 28,
   "source": [
    "summary"
   ],
   "outputs": [
    {
     "output_type": "execute_result",
     "data": {
      "text/plain": [
       "                 Classifier   Accuracy  Precision     Recall   F1 Score  \\\n",
       "0        LogisticRegression  78.633333  56.976744  34.950071  43.324492   \n",
       "0  LogisticRegression_param  76.066667  49.251101  79.743224  60.893246   \n",
       "0  LogisticRegression_scale  78.500000  56.666667  33.951498  42.462087   \n",
       "0                GaussianNB  65.833333  39.054054  82.453638  53.003210   \n",
       "0    DecisionTreeClassifier  97.666667  92.692828  97.717546  95.138889   \n",
       "\n",
       "     ROC_AUC  \n",
       "0  63.451547  \n",
       "0  77.344426  \n",
       "0  63.017506  \n",
       "0  71.609594  \n",
       "0  97.684350  "
      ],
      "text/html": [
       "<div>\n",
       "<style scoped>\n",
       "    .dataframe tbody tr th:only-of-type {\n",
       "        vertical-align: middle;\n",
       "    }\n",
       "\n",
       "    .dataframe tbody tr th {\n",
       "        vertical-align: top;\n",
       "    }\n",
       "\n",
       "    .dataframe thead th {\n",
       "        text-align: right;\n",
       "    }\n",
       "</style>\n",
       "<table border=\"1\" class=\"dataframe\">\n",
       "  <thead>\n",
       "    <tr style=\"text-align: right;\">\n",
       "      <th></th>\n",
       "      <th>Classifier</th>\n",
       "      <th>Accuracy</th>\n",
       "      <th>Precision</th>\n",
       "      <th>Recall</th>\n",
       "      <th>F1 Score</th>\n",
       "      <th>ROC_AUC</th>\n",
       "    </tr>\n",
       "  </thead>\n",
       "  <tbody>\n",
       "    <tr>\n",
       "      <th>0</th>\n",
       "      <td>LogisticRegression</td>\n",
       "      <td>78.633333</td>\n",
       "      <td>56.976744</td>\n",
       "      <td>34.950071</td>\n",
       "      <td>43.324492</td>\n",
       "      <td>63.451547</td>\n",
       "    </tr>\n",
       "    <tr>\n",
       "      <th>0</th>\n",
       "      <td>LogisticRegression_param</td>\n",
       "      <td>76.066667</td>\n",
       "      <td>49.251101</td>\n",
       "      <td>79.743224</td>\n",
       "      <td>60.893246</td>\n",
       "      <td>77.344426</td>\n",
       "    </tr>\n",
       "    <tr>\n",
       "      <th>0</th>\n",
       "      <td>LogisticRegression_scale</td>\n",
       "      <td>78.500000</td>\n",
       "      <td>56.666667</td>\n",
       "      <td>33.951498</td>\n",
       "      <td>42.462087</td>\n",
       "      <td>63.017506</td>\n",
       "    </tr>\n",
       "    <tr>\n",
       "      <th>0</th>\n",
       "      <td>GaussianNB</td>\n",
       "      <td>65.833333</td>\n",
       "      <td>39.054054</td>\n",
       "      <td>82.453638</td>\n",
       "      <td>53.003210</td>\n",
       "      <td>71.609594</td>\n",
       "    </tr>\n",
       "    <tr>\n",
       "      <th>0</th>\n",
       "      <td>DecisionTreeClassifier</td>\n",
       "      <td>97.666667</td>\n",
       "      <td>92.692828</td>\n",
       "      <td>97.717546</td>\n",
       "      <td>95.138889</td>\n",
       "      <td>97.684350</td>\n",
       "    </tr>\n",
       "  </tbody>\n",
       "</table>\n",
       "</div>"
      ]
     },
     "metadata": {},
     "execution_count": 28
    }
   ],
   "metadata": {}
  },
  {
   "cell_type": "code",
   "execution_count": 29,
   "source": [
    "print('decision tree param: ')\r\n",
    "print(dt_model.get_params())"
   ],
   "outputs": [
    {
     "output_type": "stream",
     "name": "stdout",
     "text": [
      "decision tree param: \n",
      "{'ccp_alpha': 0.0, 'class_weight': None, 'criterion': 'gini', 'max_depth': None, 'max_features': None, 'max_leaf_nodes': None, 'min_impurity_decrease': 0.0, 'min_impurity_split': None, 'min_samples_leaf': 1, 'min_samples_split': 2, 'min_weight_fraction_leaf': 0.0, 'random_state': None, 'splitter': 'best'}\n"
     ]
    }
   ],
   "metadata": {}
  },
  {
   "cell_type": "code",
   "execution_count": 30,
   "source": [
    "importances = dt_model.feature_importances_\r\n",
    "feat_names = df.drop(['left'],axis=1).columns\r\n",
    "\r\n",
    "indices = np.argsort(importances)[::-1]\r\n",
    "plt.figure(figsize=(12,6))\r\n",
    "plt.title(\"Feature importances by DecisionTreeClassifier\")\r\n",
    "plt.bar(range(len(indices)), importances[indices], color='lightblue',  align=\"center\")\r\n",
    "plt.step(range(len(indices)), np.cumsum(importances[indices]), where='mid', label='Cumulative')\r\n",
    "plt.xticks(range(len(indices)), feat_names[indices], rotation='vertical',fontsize=14)\r\n",
    "plt.xlim([-1, len(indices)])\r\n",
    "plt.show()"
   ],
   "outputs": [
    {
     "output_type": "display_data",
     "data": {
      "text/plain": [
       "<Figure size 864x432 with 1 Axes>"
      ],
      "image/png": "[encoded data removed]"
     },
     "metadata": {
      "needs_background": "light"
     }
    }
   ],
   "metadata": {}
  },
  {
   "cell_type": "markdown",
   "source": [
    "### **SVC**"
   ],
   "metadata": {}
  },
  {
   "cell_type": "code",
   "execution_count": 31,
   "source": [
    "svm_model = SVC().fit(X_train,y_train)\r\n",
    "y_pred = svm_model.predict(X_test)\r\n",
    "name = svm_model.__class__.__name__\r\n",
    "summary = summary.append(summary_score(name,y_test,y_pred))"
   ],
   "outputs": [
    {
     "output_type": "stream",
     "name": "stdout",
     "text": [
      "Model:  SVC\n",
      "--Result in test data set--\n",
      "Accuracy score:  0.7883333333333333\n",
      "Precision score 0.9852941176470589\n",
      "Recall score:  0.09557774607703282\n",
      "F1 score:  0.17425227568270482\n",
      "ROC_AUC:  0.5475713871750976\n"
     ]
    }
   ],
   "metadata": {}
  },
  {
   "cell_type": "code",
   "execution_count": 32,
   "source": [
    "summary"
   ],
   "outputs": [
    {
     "output_type": "execute_result",
     "data": {
      "text/plain": [
       "                 Classifier   Accuracy  Precision     Recall   F1 Score  \\\n",
       "0        LogisticRegression  78.633333  56.976744  34.950071  43.324492   \n",
       "0  LogisticRegression_param  76.066667  49.251101  79.743224  60.893246   \n",
       "0  LogisticRegression_scale  78.500000  56.666667  33.951498  42.462087   \n",
       "0                GaussianNB  65.833333  39.054054  82.453638  53.003210   \n",
       "0    DecisionTreeClassifier  97.666667  92.692828  97.717546  95.138889   \n",
       "0                       SVC  78.833333  98.529412   9.557775  17.425228   \n",
       "\n",
       "     ROC_AUC  \n",
       "0  63.451547  \n",
       "0  77.344426  \n",
       "0  63.017506  \n",
       "0  71.609594  \n",
       "0  97.684350  \n",
       "0  54.757139  "
      ],
      "text/html": [
       "<div>\n",
       "<style scoped>\n",
       "    .dataframe tbody tr th:only-of-type {\n",
       "        vertical-align: middle;\n",
       "    }\n",
       "\n",
       "    .dataframe tbody tr th {\n",
       "        vertical-align: top;\n",
       "    }\n",
       "\n",
       "    .dataframe thead th {\n",
       "        text-align: right;\n",
       "    }\n",
       "</style>\n",
       "<table border=\"1\" class=\"dataframe\">\n",
       "  <thead>\n",
       "    <tr style=\"text-align: right;\">\n",
       "      <th></th>\n",
       "      <th>Classifier</th>\n",
       "      <th>Accuracy</th>\n",
       "      <th>Precision</th>\n",
       "      <th>Recall</th>\n",
       "      <th>F1 Score</th>\n",
       "      <th>ROC_AUC</th>\n",
       "    </tr>\n",
       "  </thead>\n",
       "  <tbody>\n",
       "    <tr>\n",
       "      <th>0</th>\n",
       "      <td>LogisticRegression</td>\n",
       "      <td>78.633333</td>\n",
       "      <td>56.976744</td>\n",
       "      <td>34.950071</td>\n",
       "      <td>43.324492</td>\n",
       "      <td>63.451547</td>\n",
       "    </tr>\n",
       "    <tr>\n",
       "      <th>0</th>\n",
       "      <td>LogisticRegression_param</td>\n",
       "      <td>76.066667</td>\n",
       "      <td>49.251101</td>\n",
       "      <td>79.743224</td>\n",
       "      <td>60.893246</td>\n",
       "      <td>77.344426</td>\n",
       "    </tr>\n",
       "    <tr>\n",
       "      <th>0</th>\n",
       "      <td>LogisticRegression_scale</td>\n",
       "      <td>78.500000</td>\n",
       "      <td>56.666667</td>\n",
       "      <td>33.951498</td>\n",
       "      <td>42.462087</td>\n",
       "      <td>63.017506</td>\n",
       "    </tr>\n",
       "    <tr>\n",
       "      <th>0</th>\n",
       "      <td>GaussianNB</td>\n",
       "      <td>65.833333</td>\n",
       "      <td>39.054054</td>\n",
       "      <td>82.453638</td>\n",
       "      <td>53.003210</td>\n",
       "      <td>71.609594</td>\n",
       "    </tr>\n",
       "    <tr>\n",
       "      <th>0</th>\n",
       "      <td>DecisionTreeClassifier</td>\n",
       "      <td>97.666667</td>\n",
       "      <td>92.692828</td>\n",
       "      <td>97.717546</td>\n",
       "      <td>95.138889</td>\n",
       "      <td>97.684350</td>\n",
       "    </tr>\n",
       "    <tr>\n",
       "      <th>0</th>\n",
       "      <td>SVC</td>\n",
       "      <td>78.833333</td>\n",
       "      <td>98.529412</td>\n",
       "      <td>9.557775</td>\n",
       "      <td>17.425228</td>\n",
       "      <td>54.757139</td>\n",
       "    </tr>\n",
       "  </tbody>\n",
       "</table>\n",
       "</div>"
      ]
     },
     "metadata": {},
     "execution_count": 32
    }
   ],
   "metadata": {}
  },
  {
   "cell_type": "code",
   "execution_count": 33,
   "source": [
    "plot_confusion_matrix(svm_model,X_test,y_test,\r\n",
    "                            display_labels=['non letf','left'])"
   ],
   "outputs": [
    {
     "output_type": "execute_result",
     "data": {
      "text/plain": [
       "<sklearn.metrics._plot.confusion_matrix.ConfusionMatrixDisplay at 0x1c5a731f0a0>"
      ]
     },
     "metadata": {},
     "execution_count": 33
    },
    {
     "output_type": "display_data",
     "data": {
      "text/plain": [
       "<Figure size 432x288 with 2 Axes>"
      ],
      "image/png": "[encoded data removed]"
     },
     "metadata": {
      "needs_background": "light"
     }
    }
   ],
   "metadata": {}
  },
  {
   "cell_type": "markdown",
   "source": [
    "### **KNeighborsClassifier**"
   ],
   "metadata": {}
  },
  {
   "cell_type": "code",
   "execution_count": 34,
   "source": [
    "KNN_model = KNeighborsClassifier().fit(X_train,y_train)\r\n",
    "y_pred = KNN_model.predict(X_test)\r\n",
    "name = KNN_model.__class__.__name__\r\n",
    "summary = summary.append(summary_score(name,y_test,y_pred))"
   ],
   "outputs": [
    {
     "output_type": "stream",
     "name": "stdout",
     "text": [
      "Model:  KNeighborsClassifier\n",
      "--Result in test data set--\n",
      "Accuracy score:  0.9416666666666667\n",
      "Precision score 0.8415584415584415\n",
      "Recall score:  0.9243937232524965\n",
      "F1 score:  0.8810333106730115\n",
      "ROC_AUC:  0.935663586289145\n"
     ]
    }
   ],
   "metadata": {}
  },
  {
   "cell_type": "code",
   "execution_count": 35,
   "source": [
    "summary"
   ],
   "outputs": [
    {
     "output_type": "execute_result",
     "data": {
      "text/plain": [
       "                 Classifier   Accuracy  Precision     Recall   F1 Score  \\\n",
       "0        LogisticRegression  78.633333  56.976744  34.950071  43.324492   \n",
       "0  LogisticRegression_param  76.066667  49.251101  79.743224  60.893246   \n",
       "0  LogisticRegression_scale  78.500000  56.666667  33.951498  42.462087   \n",
       "0                GaussianNB  65.833333  39.054054  82.453638  53.003210   \n",
       "0    DecisionTreeClassifier  97.666667  92.692828  97.717546  95.138889   \n",
       "0                       SVC  78.833333  98.529412   9.557775  17.425228   \n",
       "0      KNeighborsClassifier  94.166667  84.155844  92.439372  88.103331   \n",
       "\n",
       "     ROC_AUC  \n",
       "0  63.451547  \n",
       "0  77.344426  \n",
       "0  63.017506  \n",
       "0  71.609594  \n",
       "0  97.684350  \n",
       "0  54.757139  \n",
       "0  93.566359  "
      ],
      "text/html": [
       "<div>\n",
       "<style scoped>\n",
       "    .dataframe tbody tr th:only-of-type {\n",
       "        vertical-align: middle;\n",
       "    }\n",
       "\n",
       "    .dataframe tbody tr th {\n",
       "        vertical-align: top;\n",
       "    }\n",
       "\n",
       "    .dataframe thead th {\n",
       "        text-align: right;\n",
       "    }\n",
       "</style>\n",
       "<table border=\"1\" class=\"dataframe\">\n",
       "  <thead>\n",
       "    <tr style=\"text-align: right;\">\n",
       "      <th></th>\n",
       "      <th>Classifier</th>\n",
       "      <th>Accuracy</th>\n",
       "      <th>Precision</th>\n",
       "      <th>Recall</th>\n",
       "      <th>F1 Score</th>\n",
       "      <th>ROC_AUC</th>\n",
       "    </tr>\n",
       "  </thead>\n",
       "  <tbody>\n",
       "    <tr>\n",
       "      <th>0</th>\n",
       "      <td>LogisticRegression</td>\n",
       "      <td>78.633333</td>\n",
       "      <td>56.976744</td>\n",
       "      <td>34.950071</td>\n",
       "      <td>43.324492</td>\n",
       "      <td>63.451547</td>\n",
       "    </tr>\n",
       "    <tr>\n",
       "      <th>0</th>\n",
       "      <td>LogisticRegression_param</td>\n",
       "      <td>76.066667</td>\n",
       "      <td>49.251101</td>\n",
       "      <td>79.743224</td>\n",
       "      <td>60.893246</td>\n",
       "      <td>77.344426</td>\n",
       "    </tr>\n",
       "    <tr>\n",
       "      <th>0</th>\n",
       "      <td>LogisticRegression_scale</td>\n",
       "      <td>78.500000</td>\n",
       "      <td>56.666667</td>\n",
       "      <td>33.951498</td>\n",
       "      <td>42.462087</td>\n",
       "      <td>63.017506</td>\n",
       "    </tr>\n",
       "    <tr>\n",
       "      <th>0</th>\n",
       "      <td>GaussianNB</td>\n",
       "      <td>65.833333</td>\n",
       "      <td>39.054054</td>\n",
       "      <td>82.453638</td>\n",
       "      <td>53.003210</td>\n",
       "      <td>71.609594</td>\n",
       "    </tr>\n",
       "    <tr>\n",
       "      <th>0</th>\n",
       "      <td>DecisionTreeClassifier</td>\n",
       "      <td>97.666667</td>\n",
       "      <td>92.692828</td>\n",
       "      <td>97.717546</td>\n",
       "      <td>95.138889</td>\n",
       "      <td>97.684350</td>\n",
       "    </tr>\n",
       "    <tr>\n",
       "      <th>0</th>\n",
       "      <td>SVC</td>\n",
       "      <td>78.833333</td>\n",
       "      <td>98.529412</td>\n",
       "      <td>9.557775</td>\n",
       "      <td>17.425228</td>\n",
       "      <td>54.757139</td>\n",
       "    </tr>\n",
       "    <tr>\n",
       "      <th>0</th>\n",
       "      <td>KNeighborsClassifier</td>\n",
       "      <td>94.166667</td>\n",
       "      <td>84.155844</td>\n",
       "      <td>92.439372</td>\n",
       "      <td>88.103331</td>\n",
       "      <td>93.566359</td>\n",
       "    </tr>\n",
       "  </tbody>\n",
       "</table>\n",
       "</div>"
      ]
     },
     "metadata": {},
     "execution_count": 35
    }
   ],
   "metadata": {}
  },
  {
   "cell_type": "code",
   "execution_count": 36,
   "source": [
    "print('Model param: ')\r\n",
    "print(KNN_model.get_params())"
   ],
   "outputs": [
    {
     "output_type": "stream",
     "name": "stdout",
     "text": [
      "Model param: \n",
      "{'algorithm': 'auto', 'leaf_size': 30, 'metric': 'minkowski', 'metric_params': None, 'n_jobs': None, 'n_neighbors': 5, 'p': 2, 'weights': 'uniform'}\n"
     ]
    }
   ],
   "metadata": {}
  },
  {
   "cell_type": "code",
   "execution_count": 37,
   "source": [
    "plot_confusion_matrix(KNN_model,X_test,y_test,\r\n",
    "                            display_labels=['non letf','left'])"
   ],
   "outputs": [
    {
     "output_type": "execute_result",
     "data": {
      "text/plain": [
       "<sklearn.metrics._plot.confusion_matrix.ConfusionMatrixDisplay at 0x1c5a74d0d30>"
      ]
     },
     "metadata": {},
     "execution_count": 37
    },
    {
     "output_type": "display_data",
     "data": {
      "text/plain": [
       "<Figure size 432x288 with 2 Axes>"
      ],
      "image/png": "[encoded data removed]"
     },
     "metadata": {
      "needs_background": "light"
     }
    }
   ],
   "metadata": {}
  },
  {
   "cell_type": "markdown",
   "source": [
    "### **RandomForestClassifier**"
   ],
   "metadata": {}
  },
  {
   "cell_type": "code",
   "execution_count": 38,
   "source": [
    "RFC_model = RandomForestClassifier().fit(X_train,y_train)\r\n",
    "y_pred = RFC_model.predict(X_test)\r\n",
    "name = RFC_model.__class__.__name__\r\n",
    "summary = summary.append(summary_score(name,y_test,y_pred))"
   ],
   "outputs": [
    {
     "output_type": "stream",
     "name": "stdout",
     "text": [
      "Model:  RandomForestClassifier\n",
      "--Result in test data set--\n",
      "Accuracy score:  0.9926666666666667\n",
      "Precision score 0.9913169319826338\n",
      "Recall score:  0.9771754636233951\n",
      "F1 score:  0.9841954022988506\n",
      "ROC_AUC:  0.9872828166311842\n"
     ]
    }
   ],
   "metadata": {}
  },
  {
   "cell_type": "code",
   "execution_count": 39,
   "source": [
    "print('Model parameters: ')\r\n",
    "print(RFC_model.get_params())"
   ],
   "outputs": [
    {
     "output_type": "stream",
     "name": "stdout",
     "text": [
      "Model parameters: \n",
      "{'bootstrap': True, 'ccp_alpha': 0.0, 'class_weight': None, 'criterion': 'gini', 'max_depth': None, 'max_features': 'auto', 'max_leaf_nodes': None, 'max_samples': None, 'min_impurity_decrease': 0.0, 'min_impurity_split': None, 'min_samples_leaf': 1, 'min_samples_split': 2, 'min_weight_fraction_leaf': 0.0, 'n_estimators': 100, 'n_jobs': None, 'oob_score': False, 'random_state': None, 'verbose': 0, 'warm_start': False}\n"
     ]
    }
   ],
   "metadata": {}
  },
  {
   "cell_type": "code",
   "execution_count": 40,
   "source": [
    "summary"
   ],
   "outputs": [
    {
     "output_type": "execute_result",
     "data": {
      "text/plain": [
       "                 Classifier   Accuracy  Precision     Recall   F1 Score  \\\n",
       "0        LogisticRegression  78.633333  56.976744  34.950071  43.324492   \n",
       "0  LogisticRegression_param  76.066667  49.251101  79.743224  60.893246   \n",
       "0  LogisticRegression_scale  78.500000  56.666667  33.951498  42.462087   \n",
       "0                GaussianNB  65.833333  39.054054  82.453638  53.003210   \n",
       "0    DecisionTreeClassifier  97.666667  92.692828  97.717546  95.138889   \n",
       "0                       SVC  78.833333  98.529412   9.557775  17.425228   \n",
       "0      KNeighborsClassifier  94.166667  84.155844  92.439372  88.103331   \n",
       "0    RandomForestClassifier  99.266667  99.131693  97.717546  98.419540   \n",
       "\n",
       "     ROC_AUC  \n",
       "0  63.451547  \n",
       "0  77.344426  \n",
       "0  63.017506  \n",
       "0  71.609594  \n",
       "0  97.684350  \n",
       "0  54.757139  \n",
       "0  93.566359  \n",
       "0  98.728282  "
      ],
      "text/html": [
       "<div>\n",
       "<style scoped>\n",
       "    .dataframe tbody tr th:only-of-type {\n",
       "        vertical-align: middle;\n",
       "    }\n",
       "\n",
       "    .dataframe tbody tr th {\n",
       "        vertical-align: top;\n",
       "    }\n",
       "\n",
       "    .dataframe thead th {\n",
       "        text-align: right;\n",
       "    }\n",
       "</style>\n",
       "<table border=\"1\" class=\"dataframe\">\n",
       "  <thead>\n",
       "    <tr style=\"text-align: right;\">\n",
       "      <th></th>\n",
       "      <th>Classifier</th>\n",
       "      <th>Accuracy</th>\n",
       "      <th>Precision</th>\n",
       "      <th>Recall</th>\n",
       "      <th>F1 Score</th>\n",
       "      <th>ROC_AUC</th>\n",
       "    </tr>\n",
       "  </thead>\n",
       "  <tbody>\n",
       "    <tr>\n",
       "      <th>0</th>\n",
       "      <td>LogisticRegression</td>\n",
       "      <td>78.633333</td>\n",
       "      <td>56.976744</td>\n",
       "      <td>34.950071</td>\n",
       "      <td>43.324492</td>\n",
       "      <td>63.451547</td>\n",
       "    </tr>\n",
       "    <tr>\n",
       "      <th>0</th>\n",
       "      <td>LogisticRegression_param</td>\n",
       "      <td>76.066667</td>\n",
       "      <td>49.251101</td>\n",
       "      <td>79.743224</td>\n",
       "      <td>60.893246</td>\n",
       "      <td>77.344426</td>\n",
       "    </tr>\n",
       "    <tr>\n",
       "      <th>0</th>\n",
       "      <td>LogisticRegression_scale</td>\n",
       "      <td>78.500000</td>\n",
       "      <td>56.666667</td>\n",
       "      <td>33.951498</td>\n",
       "      <td>42.462087</td>\n",
       "      <td>63.017506</td>\n",
       "    </tr>\n",
       "    <tr>\n",
       "      <th>0</th>\n",
       "      <td>GaussianNB</td>\n",
       "      <td>65.833333</td>\n",
       "      <td>39.054054</td>\n",
       "      <td>82.453638</td>\n",
       "      <td>53.003210</td>\n",
       "      <td>71.609594</td>\n",
       "    </tr>\n",
       "    <tr>\n",
       "      <th>0</th>\n",
       "      <td>DecisionTreeClassifier</td>\n",
       "      <td>97.666667</td>\n",
       "      <td>92.692828</td>\n",
       "      <td>97.717546</td>\n",
       "      <td>95.138889</td>\n",
       "      <td>97.684350</td>\n",
       "    </tr>\n",
       "    <tr>\n",
       "      <th>0</th>\n",
       "      <td>SVC</td>\n",
       "      <td>78.833333</td>\n",
       "      <td>98.529412</td>\n",
       "      <td>9.557775</td>\n",
       "      <td>17.425228</td>\n",
       "      <td>54.757139</td>\n",
       "    </tr>\n",
       "    <tr>\n",
       "      <th>0</th>\n",
       "      <td>KNeighborsClassifier</td>\n",
       "      <td>94.166667</td>\n",
       "      <td>84.155844</td>\n",
       "      <td>92.439372</td>\n",
       "      <td>88.103331</td>\n",
       "      <td>93.566359</td>\n",
       "    </tr>\n",
       "    <tr>\n",
       "      <th>0</th>\n",
       "      <td>RandomForestClassifier</td>\n",
       "      <td>99.266667</td>\n",
       "      <td>99.131693</td>\n",
       "      <td>97.717546</td>\n",
       "      <td>98.419540</td>\n",
       "      <td>98.728282</td>\n",
       "    </tr>\n",
       "  </tbody>\n",
       "</table>\n",
       "</div>"
      ]
     },
     "metadata": {},
     "execution_count": 40
    }
   ],
   "metadata": {}
  },
  {
   "cell_type": "code",
   "execution_count": 41,
   "source": [
    "plot_confusion_matrix(RFC_model,X_test,y_test,\r\n",
    "                            display_labels=['non letf','left'])"
   ],
   "outputs": [
    {
     "output_type": "execute_result",
     "data": {
      "text/plain": [
       "<sklearn.metrics._plot.confusion_matrix.ConfusionMatrixDisplay at 0x1c5a7909460>"
      ]
     },
     "metadata": {},
     "execution_count": 41
    },
    {
     "output_type": "display_data",
     "data": {
      "text/plain": [
       "<Figure size 432x288 with 2 Axes>"
      ],
      "image/png": "[encoded data removed]"
     },
     "metadata": {
      "needs_background": "light"
     }
    }
   ],
   "metadata": {}
  },
  {
   "cell_type": "markdown",
   "source": [
    "### **AdaBoostClassifier**"
   ],
   "metadata": {}
  },
  {
   "cell_type": "code",
   "execution_count": 42,
   "source": [
    "Ada_model = AdaBoostClassifier().fit(X_train,y_train)\r\n",
    "y_pred = Ada_model.predict(X_test)\r\n",
    "name = Ada_model.__class__.__name__\r\n",
    "summary = summary.append(summary_score(name,y_test,y_pred))"
   ],
   "outputs": [
    {
     "output_type": "stream",
     "name": "stdout",
     "text": [
      "Model:  AdaBoostClassifier\n",
      "--Result in test data set--\n",
      "Accuracy score:  0.962\n",
      "Precision score 0.9082058414464534\n",
      "Recall score:  0.9315263908701854\n",
      "F1 score:  0.9197183098591548\n",
      "ROC_AUC:  0.9514091284494467\n"
     ]
    }
   ],
   "metadata": {}
  },
  {
   "cell_type": "code",
   "execution_count": 43,
   "source": [
    "summary"
   ],
   "outputs": [
    {
     "output_type": "execute_result",
     "data": {
      "text/plain": [
       "                 Classifier   Accuracy  Precision     Recall   F1 Score  \\\n",
       "0        LogisticRegression  78.633333  56.976744  34.950071  43.324492   \n",
       "0  LogisticRegression_param  76.066667  49.251101  79.743224  60.893246   \n",
       "0  LogisticRegression_scale  78.500000  56.666667  33.951498  42.462087   \n",
       "0                GaussianNB  65.833333  39.054054  82.453638  53.003210   \n",
       "0    DecisionTreeClassifier  97.666667  92.692828  97.717546  95.138889   \n",
       "0                       SVC  78.833333  98.529412   9.557775  17.425228   \n",
       "0      KNeighborsClassifier  94.166667  84.155844  92.439372  88.103331   \n",
       "0    RandomForestClassifier  99.266667  99.131693  97.717546  98.419540   \n",
       "0        AdaBoostClassifier  96.200000  90.820584  93.152639  91.971831   \n",
       "\n",
       "     ROC_AUC  \n",
       "0  63.451547  \n",
       "0  77.344426  \n",
       "0  63.017506  \n",
       "0  71.609594  \n",
       "0  97.684350  \n",
       "0  54.757139  \n",
       "0  93.566359  \n",
       "0  98.728282  \n",
       "0  95.140913  "
      ],
      "text/html": [
       "<div>\n",
       "<style scoped>\n",
       "    .dataframe tbody tr th:only-of-type {\n",
       "        vertical-align: middle;\n",
       "    }\n",
       "\n",
       "    .dataframe tbody tr th {\n",
       "        vertical-align: top;\n",
       "    }\n",
       "\n",
       "    .dataframe thead th {\n",
       "        text-align: right;\n",
       "    }\n",
       "</style>\n",
       "<table border=\"1\" class=\"dataframe\">\n",
       "  <thead>\n",
       "    <tr style=\"text-align: right;\">\n",
       "      <th></th>\n",
       "      <th>Classifier</th>\n",
       "      <th>Accuracy</th>\n",
       "      <th>Precision</th>\n",
       "      <th>Recall</th>\n",
       "      <th>F1 Score</th>\n",
       "      <th>ROC_AUC</th>\n",
       "    </tr>\n",
       "  </thead>\n",
       "  <tbody>\n",
       "    <tr>\n",
       "      <th>0</th>\n",
       "      <td>LogisticRegression</td>\n",
       "      <td>78.633333</td>\n",
       "      <td>56.976744</td>\n",
       "      <td>34.950071</td>\n",
       "      <td>43.324492</td>\n",
       "      <td>63.451547</td>\n",
       "    </tr>\n",
       "    <tr>\n",
       "      <th>0</th>\n",
       "      <td>LogisticRegression_param</td>\n",
       "      <td>76.066667</td>\n",
       "      <td>49.251101</td>\n",
       "      <td>79.743224</td>\n",
       "      <td>60.893246</td>\n",
       "      <td>77.344426</td>\n",
       "    </tr>\n",
       "    <tr>\n",
       "      <th>0</th>\n",
       "      <td>LogisticRegression_scale</td>\n",
       "      <td>78.500000</td>\n",
       "      <td>56.666667</td>\n",
       "      <td>33.951498</td>\n",
       "      <td>42.462087</td>\n",
       "      <td>63.017506</td>\n",
       "    </tr>\n",
       "    <tr>\n",
       "      <th>0</th>\n",
       "      <td>GaussianNB</td>\n",
       "      <td>65.833333</td>\n",
       "      <td>39.054054</td>\n",
       "      <td>82.453638</td>\n",
       "      <td>53.003210</td>\n",
       "      <td>71.609594</td>\n",
       "    </tr>\n",
       "    <tr>\n",
       "      <th>0</th>\n",
       "      <td>DecisionTreeClassifier</td>\n",
       "      <td>97.666667</td>\n",
       "      <td>92.692828</td>\n",
       "      <td>97.717546</td>\n",
       "      <td>95.138889</td>\n",
       "      <td>97.684350</td>\n",
       "    </tr>\n",
       "    <tr>\n",
       "      <th>0</th>\n",
       "      <td>SVC</td>\n",
       "      <td>78.833333</td>\n",
       "      <td>98.529412</td>\n",
       "      <td>9.557775</td>\n",
       "      <td>17.425228</td>\n",
       "      <td>54.757139</td>\n",
       "    </tr>\n",
       "    <tr>\n",
       "      <th>0</th>\n",
       "      <td>KNeighborsClassifier</td>\n",
       "      <td>94.166667</td>\n",
       "      <td>84.155844</td>\n",
       "      <td>92.439372</td>\n",
       "      <td>88.103331</td>\n",
       "      <td>93.566359</td>\n",
       "    </tr>\n",
       "    <tr>\n",
       "      <th>0</th>\n",
       "      <td>RandomForestClassifier</td>\n",
       "      <td>99.266667</td>\n",
       "      <td>99.131693</td>\n",
       "      <td>97.717546</td>\n",
       "      <td>98.419540</td>\n",
       "      <td>98.728282</td>\n",
       "    </tr>\n",
       "    <tr>\n",
       "      <th>0</th>\n",
       "      <td>AdaBoostClassifier</td>\n",
       "      <td>96.200000</td>\n",
       "      <td>90.820584</td>\n",
       "      <td>93.152639</td>\n",
       "      <td>91.971831</td>\n",
       "      <td>95.140913</td>\n",
       "    </tr>\n",
       "  </tbody>\n",
       "</table>\n",
       "</div>"
      ]
     },
     "metadata": {},
     "execution_count": 43
    }
   ],
   "metadata": {}
  },
  {
   "cell_type": "code",
   "execution_count": 44,
   "source": [
    "print('Model parameters: ')\r\n",
    "print(Ada_model.get_params())"
   ],
   "outputs": [
    {
     "output_type": "stream",
     "name": "stdout",
     "text": [
      "Model parameters: \n",
      "{'algorithm': 'SAMME.R', 'base_estimator': None, 'learning_rate': 1.0, 'n_estimators': 50, 'random_state': None}\n"
     ]
    }
   ],
   "metadata": {}
  },
  {
   "cell_type": "code",
   "execution_count": 45,
   "source": [
    "plot_confusion_matrix(Ada_model,X_test,y_test,\r\n",
    "                            display_labels=['non letf','left'])"
   ],
   "outputs": [
    {
     "output_type": "execute_result",
     "data": {
      "text/plain": [
       "<sklearn.metrics._plot.confusion_matrix.ConfusionMatrixDisplay at 0x1c5a7621550>"
      ]
     },
     "metadata": {},
     "execution_count": 45
    },
    {
     "output_type": "display_data",
     "data": {
      "text/plain": [
       "<Figure size 432x288 with 2 Axes>"
      ],
      "image/png": "[encoded data removed]"
     },
     "metadata": {
      "needs_background": "light"
     }
    }
   ],
   "metadata": {}
  },
  {
   "cell_type": "markdown",
   "source": [
    "### **GradientBoostingClassifier**"
   ],
   "metadata": {}
  },
  {
   "cell_type": "code",
   "execution_count": 46,
   "source": [
    "GDB_model = GradientBoostingClassifier().fit(X_train,y_train)\r\n",
    "y_pred = GDB_model.predict(X_test)\r\n",
    "name = GDB_model.__class__.__name__\r\n",
    "summary = summary.append(summary_score(name,y_test,y_pred))"
   ],
   "outputs": [
    {
     "output_type": "stream",
     "name": "stdout",
     "text": [
      "Model:  GradientBoostingClassifier\n",
      "--Result in test data set--\n",
      "Accuracy score:  0.9793333333333333\n",
      "Precision score 0.9691629955947136\n",
      "Recall score:  0.9415121255349501\n",
      "F1 score:  0.9551374819102749\n",
      "ROC_AUC:  0.9661888596356787\n"
     ]
    }
   ],
   "metadata": {}
  },
  {
   "cell_type": "code",
   "execution_count": 47,
   "source": [
    "summary"
   ],
   "outputs": [
    {
     "output_type": "execute_result",
     "data": {
      "text/plain": [
       "                   Classifier   Accuracy  Precision     Recall   F1 Score  \\\n",
       "0          LogisticRegression  78.633333  56.976744  34.950071  43.324492   \n",
       "0    LogisticRegression_param  76.066667  49.251101  79.743224  60.893246   \n",
       "0    LogisticRegression_scale  78.500000  56.666667  33.951498  42.462087   \n",
       "0                  GaussianNB  65.833333  39.054054  82.453638  53.003210   \n",
       "0      DecisionTreeClassifier  97.666667  92.692828  97.717546  95.138889   \n",
       "0                         SVC  78.833333  98.529412   9.557775  17.425228   \n",
       "0        KNeighborsClassifier  94.166667  84.155844  92.439372  88.103331   \n",
       "0      RandomForestClassifier  99.266667  99.131693  97.717546  98.419540   \n",
       "0          AdaBoostClassifier  96.200000  90.820584  93.152639  91.971831   \n",
       "0  GradientBoostingClassifier  97.933333  96.916300  94.151213  95.513748   \n",
       "\n",
       "     ROC_AUC  \n",
       "0  63.451547  \n",
       "0  77.344426  \n",
       "0  63.017506  \n",
       "0  71.609594  \n",
       "0  97.684350  \n",
       "0  54.757139  \n",
       "0  93.566359  \n",
       "0  98.728282  \n",
       "0  95.140913  \n",
       "0  96.618886  "
      ],
      "text/html": [
       "<div>\n",
       "<style scoped>\n",
       "    .dataframe tbody tr th:only-of-type {\n",
       "        vertical-align: middle;\n",
       "    }\n",
       "\n",
       "    .dataframe tbody tr th {\n",
       "        vertical-align: top;\n",
       "    }\n",
       "\n",
       "    .dataframe thead th {\n",
       "        text-align: right;\n",
       "    }\n",
       "</style>\n",
       "<table border=\"1\" class=\"dataframe\">\n",
       "  <thead>\n",
       "    <tr style=\"text-align: right;\">\n",
       "      <th></th>\n",
       "      <th>Classifier</th>\n",
       "      <th>Accuracy</th>\n",
       "      <th>Precision</th>\n",
       "      <th>Recall</th>\n",
       "      <th>F1 Score</th>\n",
       "      <th>ROC_AUC</th>\n",
       "    </tr>\n",
       "  </thead>\n",
       "  <tbody>\n",
       "    <tr>\n",
       "      <th>0</th>\n",
       "      <td>LogisticRegression</td>\n",
       "      <td>78.633333</td>\n",
       "      <td>56.976744</td>\n",
       "      <td>34.950071</td>\n",
       "      <td>43.324492</td>\n",
       "      <td>63.451547</td>\n",
       "    </tr>\n",
       "    <tr>\n",
       "      <th>0</th>\n",
       "      <td>LogisticRegression_param</td>\n",
       "      <td>76.066667</td>\n",
       "      <td>49.251101</td>\n",
       "      <td>79.743224</td>\n",
       "      <td>60.893246</td>\n",
       "      <td>77.344426</td>\n",
       "    </tr>\n",
       "    <tr>\n",
       "      <th>0</th>\n",
       "      <td>LogisticRegression_scale</td>\n",
       "      <td>78.500000</td>\n",
       "      <td>56.666667</td>\n",
       "      <td>33.951498</td>\n",
       "      <td>42.462087</td>\n",
       "      <td>63.017506</td>\n",
       "    </tr>\n",
       "    <tr>\n",
       "      <th>0</th>\n",
       "      <td>GaussianNB</td>\n",
       "      <td>65.833333</td>\n",
       "      <td>39.054054</td>\n",
       "      <td>82.453638</td>\n",
       "      <td>53.003210</td>\n",
       "      <td>71.609594</td>\n",
       "    </tr>\n",
       "    <tr>\n",
       "      <th>0</th>\n",
       "      <td>DecisionTreeClassifier</td>\n",
       "      <td>97.666667</td>\n",
       "      <td>92.692828</td>\n",
       "      <td>97.717546</td>\n",
       "      <td>95.138889</td>\n",
       "      <td>97.684350</td>\n",
       "    </tr>\n",
       "    <tr>\n",
       "      <th>0</th>\n",
       "      <td>SVC</td>\n",
       "      <td>78.833333</td>\n",
       "      <td>98.529412</td>\n",
       "      <td>9.557775</td>\n",
       "      <td>17.425228</td>\n",
       "      <td>54.757139</td>\n",
       "    </tr>\n",
       "    <tr>\n",
       "      <th>0</th>\n",
       "      <td>KNeighborsClassifier</td>\n",
       "      <td>94.166667</td>\n",
       "      <td>84.155844</td>\n",
       "      <td>92.439372</td>\n",
       "      <td>88.103331</td>\n",
       "      <td>93.566359</td>\n",
       "    </tr>\n",
       "    <tr>\n",
       "      <th>0</th>\n",
       "      <td>RandomForestClassifier</td>\n",
       "      <td>99.266667</td>\n",
       "      <td>99.131693</td>\n",
       "      <td>97.717546</td>\n",
       "      <td>98.419540</td>\n",
       "      <td>98.728282</td>\n",
       "    </tr>\n",
       "    <tr>\n",
       "      <th>0</th>\n",
       "      <td>AdaBoostClassifier</td>\n",
       "      <td>96.200000</td>\n",
       "      <td>90.820584</td>\n",
       "      <td>93.152639</td>\n",
       "      <td>91.971831</td>\n",
       "      <td>95.140913</td>\n",
       "    </tr>\n",
       "    <tr>\n",
       "      <th>0</th>\n",
       "      <td>GradientBoostingClassifier</td>\n",
       "      <td>97.933333</td>\n",
       "      <td>96.916300</td>\n",
       "      <td>94.151213</td>\n",
       "      <td>95.513748</td>\n",
       "      <td>96.618886</td>\n",
       "    </tr>\n",
       "  </tbody>\n",
       "</table>\n",
       "</div>"
      ]
     },
     "metadata": {},
     "execution_count": 47
    }
   ],
   "metadata": {}
  },
  {
   "cell_type": "code",
   "execution_count": 48,
   "source": [
    "print('Model parameters: ')\r\n",
    "print(GDB_model.get_params())"
   ],
   "outputs": [
    {
     "output_type": "stream",
     "name": "stdout",
     "text": [
      "Model parameters: \n",
      "{'ccp_alpha': 0.0, 'criterion': 'friedman_mse', 'init': None, 'learning_rate': 0.1, 'loss': 'deviance', 'max_depth': 3, 'max_features': None, 'max_leaf_nodes': None, 'min_impurity_decrease': 0.0, 'min_impurity_split': None, 'min_samples_leaf': 1, 'min_samples_split': 2, 'min_weight_fraction_leaf': 0.0, 'n_estimators': 100, 'n_iter_no_change': None, 'random_state': None, 'subsample': 1.0, 'tol': 0.0001, 'validation_fraction': 0.1, 'verbose': 0, 'warm_start': False}\n"
     ]
    }
   ],
   "metadata": {}
  },
  {
   "cell_type": "code",
   "execution_count": 49,
   "source": [
    "plot_confusion_matrix(GDB_model,X_test,y_test,\r\n",
    "                            display_labels=['non letf','left'])"
   ],
   "outputs": [
    {
     "output_type": "execute_result",
     "data": {
      "text/plain": [
       "<sklearn.metrics._plot.confusion_matrix.ConfusionMatrixDisplay at 0x1c5a7864b20>"
      ]
     },
     "metadata": {},
     "execution_count": 49
    },
    {
     "output_type": "display_data",
     "data": {
      "text/plain": [
       "<Figure size 432x288 with 2 Axes>"
      ],
      "image/png": "[encoded data removed]"
     },
     "metadata": {
      "needs_background": "light"
     }
    }
   ],
   "metadata": {}
  },
  {
   "cell_type": "markdown",
   "source": [
    "### Summary models"
   ],
   "metadata": {}
  },
  {
   "cell_type": "code",
   "execution_count": 50,
   "source": [
    "#summary = summary.drop(['level_0','index'],axis=1)\r\n",
    "summary"
   ],
   "outputs": [
    {
     "output_type": "execute_result",
     "data": {
      "text/plain": [
       "                   Classifier   Accuracy  Precision     Recall   F1 Score  \\\n",
       "0          LogisticRegression  78.633333  56.976744  34.950071  43.324492   \n",
       "0    LogisticRegression_param  76.066667  49.251101  79.743224  60.893246   \n",
       "0    LogisticRegression_scale  78.500000  56.666667  33.951498  42.462087   \n",
       "0                  GaussianNB  65.833333  39.054054  82.453638  53.003210   \n",
       "0      DecisionTreeClassifier  97.666667  92.692828  97.717546  95.138889   \n",
       "0                         SVC  78.833333  98.529412   9.557775  17.425228   \n",
       "0        KNeighborsClassifier  94.166667  84.155844  92.439372  88.103331   \n",
       "0      RandomForestClassifier  99.266667  99.131693  97.717546  98.419540   \n",
       "0          AdaBoostClassifier  96.200000  90.820584  93.152639  91.971831   \n",
       "0  GradientBoostingClassifier  97.933333  96.916300  94.151213  95.513748   \n",
       "\n",
       "     ROC_AUC  \n",
       "0  63.451547  \n",
       "0  77.344426  \n",
       "0  63.017506  \n",
       "0  71.609594  \n",
       "0  97.684350  \n",
       "0  54.757139  \n",
       "0  93.566359  \n",
       "0  98.728282  \n",
       "0  95.140913  \n",
       "0  96.618886  "
      ],
      "text/html": [
       "<div>\n",
       "<style scoped>\n",
       "    .dataframe tbody tr th:only-of-type {\n",
       "        vertical-align: middle;\n",
       "    }\n",
       "\n",
       "    .dataframe tbody tr th {\n",
       "        vertical-align: top;\n",
       "    }\n",
       "\n",
       "    .dataframe thead th {\n",
       "        text-align: right;\n",
       "    }\n",
       "</style>\n",
       "<table border=\"1\" class=\"dataframe\">\n",
       "  <thead>\n",
       "    <tr style=\"text-align: right;\">\n",
       "      <th></th>\n",
       "      <th>Classifier</th>\n",
       "      <th>Accuracy</th>\n",
       "      <th>Precision</th>\n",
       "      <th>Recall</th>\n",
       "      <th>F1 Score</th>\n",
       "      <th>ROC_AUC</th>\n",
       "    </tr>\n",
       "  </thead>\n",
       "  <tbody>\n",
       "    <tr>\n",
       "      <th>0</th>\n",
       "      <td>LogisticRegression</td>\n",
       "      <td>78.633333</td>\n",
       "      <td>56.976744</td>\n",
       "      <td>34.950071</td>\n",
       "      <td>43.324492</td>\n",
       "      <td>63.451547</td>\n",
       "    </tr>\n",
       "    <tr>\n",
       "      <th>0</th>\n",
       "      <td>LogisticRegression_param</td>\n",
       "      <td>76.066667</td>\n",
       "      <td>49.251101</td>\n",
       "      <td>79.743224</td>\n",
       "      <td>60.893246</td>\n",
       "      <td>77.344426</td>\n",
       "    </tr>\n",
       "    <tr>\n",
       "      <th>0</th>\n",
       "      <td>LogisticRegression_scale</td>\n",
       "      <td>78.500000</td>\n",
       "      <td>56.666667</td>\n",
       "      <td>33.951498</td>\n",
       "      <td>42.462087</td>\n",
       "      <td>63.017506</td>\n",
       "    </tr>\n",
       "    <tr>\n",
       "      <th>0</th>\n",
       "      <td>GaussianNB</td>\n",
       "      <td>65.833333</td>\n",
       "      <td>39.054054</td>\n",
       "      <td>82.453638</td>\n",
       "      <td>53.003210</td>\n",
       "      <td>71.609594</td>\n",
       "    </tr>\n",
       "    <tr>\n",
       "      <th>0</th>\n",
       "      <td>DecisionTreeClassifier</td>\n",
       "      <td>97.666667</td>\n",
       "      <td>92.692828</td>\n",
       "      <td>97.717546</td>\n",
       "      <td>95.138889</td>\n",
       "      <td>97.684350</td>\n",
       "    </tr>\n",
       "    <tr>\n",
       "      <th>0</th>\n",
       "      <td>SVC</td>\n",
       "      <td>78.833333</td>\n",
       "      <td>98.529412</td>\n",
       "      <td>9.557775</td>\n",
       "      <td>17.425228</td>\n",
       "      <td>54.757139</td>\n",
       "    </tr>\n",
       "    <tr>\n",
       "      <th>0</th>\n",
       "      <td>KNeighborsClassifier</td>\n",
       "      <td>94.166667</td>\n",
       "      <td>84.155844</td>\n",
       "      <td>92.439372</td>\n",
       "      <td>88.103331</td>\n",
       "      <td>93.566359</td>\n",
       "    </tr>\n",
       "    <tr>\n",
       "      <th>0</th>\n",
       "      <td>RandomForestClassifier</td>\n",
       "      <td>99.266667</td>\n",
       "      <td>99.131693</td>\n",
       "      <td>97.717546</td>\n",
       "      <td>98.419540</td>\n",
       "      <td>98.728282</td>\n",
       "    </tr>\n",
       "    <tr>\n",
       "      <th>0</th>\n",
       "      <td>AdaBoostClassifier</td>\n",
       "      <td>96.200000</td>\n",
       "      <td>90.820584</td>\n",
       "      <td>93.152639</td>\n",
       "      <td>91.971831</td>\n",
       "      <td>95.140913</td>\n",
       "    </tr>\n",
       "    <tr>\n",
       "      <th>0</th>\n",
       "      <td>GradientBoostingClassifier</td>\n",
       "      <td>97.933333</td>\n",
       "      <td>96.916300</td>\n",
       "      <td>94.151213</td>\n",
       "      <td>95.513748</td>\n",
       "      <td>96.618886</td>\n",
       "    </tr>\n",
       "  </tbody>\n",
       "</table>\n",
       "</div>"
      ]
     },
     "metadata": {},
     "execution_count": 50
    }
   ],
   "metadata": {}
  },
  {
   "cell_type": "code",
   "execution_count": null,
   "source": [],
   "outputs": [],
   "metadata": {}
  }
 ]
}